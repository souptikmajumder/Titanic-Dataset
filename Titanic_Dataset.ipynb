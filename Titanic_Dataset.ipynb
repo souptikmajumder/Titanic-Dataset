{
  "nbformat": 4,
  "nbformat_minor": 0,
  "metadata": {
    "kernelspec": {
      "display_name": "Python 3",
      "language": "python",
      "name": "python3"
    },
    "language_info": {
      "codemirror_mode": {
        "name": "ipython",
        "version": 3
      },
      "file_extension": ".py",
      "mimetype": "text/x-python",
      "name": "python",
      "nbconvert_exporter": "python",
      "pygments_lexer": "ipython3",
      "version": "3.7.3"
    },
    "colab": {
      "name": "Titanic-Dataset.ipynb",
      "version": "0.3.2",
      "provenance": [],
      "collapsed_sections": [
        "0hAc_XKi_1TC",
        "_4EjQj0r_1TJ",
        "92NCUkm-_1TV",
        "koU4wlsr_1Ta",
        "mU8HRhLG_1Tz",
        "2jcZDccF_1T4",
        "4m7LkrZ3_1UD",
        "CMbdF-5U_1Ub",
        "bsdMvr64_1VX",
        "MhFnnbpG_1Vl",
        "pwhfS92f_1Vr",
        "HrTtAFEe_1V3",
        "u_bfSKE2_1Wm",
        "_LKyqS6S_1Wt",
        "Oyq-yDKb_1XM",
        "l3lTsDLU_1X7"
      ],
      "include_colab_link": true
    }
  },
  "cells": [
    {
      "cell_type": "markdown",
      "metadata": {
        "id": "view-in-github",
        "colab_type": "text"
      },
      "source": [
        "<a href=\"https://colab.research.google.com/github/souptikmajumder/Titanic-Dataset/blob/master/Titanic_Dataset.ipynb\" target=\"_parent\"><img src=\"https://colab.research.google.com/assets/colab-badge.svg\" alt=\"Open In Colab\"/></a>"
      ]
    },
    {
      "cell_type": "code",
      "metadata": {
        "id": "fFyKRVdJ_1SH",
        "colab_type": "code",
        "colab": {}
      },
      "source": [
        "import warnings\n",
        "warnings.filterwarnings('ignore')"
      ],
      "execution_count": 0,
      "outputs": []
    },
    {
      "cell_type": "code",
      "metadata": {
        "id": "pS4zCdvX_1SN",
        "colab_type": "code",
        "colab": {}
      },
      "source": [
        "import numpy as np\n",
        "import pandas as pd\n",
        "import seaborn as sns\n",
        "import matplotlib.pyplot as plt\n"
      ],
      "execution_count": 0,
      "outputs": []
    },
    {
      "cell_type": "code",
      "metadata": {
        "id": "BMCF0c9J__JZ",
        "colab_type": "code",
        "colab": {}
      },
      "source": [
        "from google.colab import files\n",
        "uploaded = files.upload()\n",
        "\n",
        "import io\n",
        "df_test = pd.read_csv(io.BytesIO(uploaded['test.csv']))\n",
        "df_train = pd.read_csv(io.BytesIO(uploaded['train.csv']))\n",
        "\n"
      ],
      "execution_count": 0,
      "outputs": []
    },
    {
      "cell_type": "code",
      "metadata": {
        "id": "iqWSxWRN_1SR",
        "colab_type": "code",
        "outputId": "f0b90303-bfd0-404c-c32c-571645768923",
        "colab": {}
      },
      "source": [
        "df_train.shape #891 rows and 12 columns/independent variable"
      ],
      "execution_count": 0,
      "outputs": [
        {
          "output_type": "execute_result",
          "data": {
            "text/plain": [
              "(891, 12)"
            ]
          },
          "metadata": {
            "tags": []
          },
          "execution_count": 256
        }
      ]
    },
    {
      "cell_type": "code",
      "metadata": {
        "id": "psuCAo_D_1SV",
        "colab_type": "code",
        "outputId": "e70446ba-be31-45c0-bc39-1567262f0e42",
        "colab": {}
      },
      "source": [
        "df_train.info()"
      ],
      "execution_count": 0,
      "outputs": [
        {
          "output_type": "stream",
          "text": [
            "<class 'pandas.core.frame.DataFrame'>\n",
            "RangeIndex: 891 entries, 0 to 890\n",
            "Data columns (total 12 columns):\n",
            "PassengerId    891 non-null int64\n",
            "Survived       891 non-null int64\n",
            "Pclass         891 non-null int64\n",
            "Name           891 non-null object\n",
            "Sex            891 non-null object\n",
            "Age            714 non-null float64\n",
            "SibSp          891 non-null int64\n",
            "Parch          891 non-null int64\n",
            "Ticket         891 non-null object\n",
            "Fare           891 non-null float64\n",
            "Cabin          204 non-null object\n",
            "Embarked       889 non-null object\n",
            "dtypes: float64(2), int64(5), object(5)\n",
            "memory usage: 83.6+ KB\n"
          ],
          "name": "stdout"
        }
      ]
    },
    {
      "cell_type": "code",
      "metadata": {
        "id": "TXSTCmpt_1SZ",
        "colab_type": "code",
        "colab": {}
      },
      "source": [
        "#age,embarked,cabin--> have null values \n"
      ],
      "execution_count": 0,
      "outputs": []
    },
    {
      "cell_type": "code",
      "metadata": {
        "id": "XeF8113D_1Sf",
        "colab_type": "code",
        "outputId": "e884af02-c743-4fff-8af1-5660b99c5f22",
        "colab": {}
      },
      "source": [
        "df_train.head()"
      ],
      "execution_count": 0,
      "outputs": [
        {
          "output_type": "execute_result",
          "data": {
            "text/html": [
              "<div>\n",
              "<style scoped>\n",
              "    .dataframe tbody tr th:only-of-type {\n",
              "        vertical-align: middle;\n",
              "    }\n",
              "\n",
              "    .dataframe tbody tr th {\n",
              "        vertical-align: top;\n",
              "    }\n",
              "\n",
              "    .dataframe thead th {\n",
              "        text-align: right;\n",
              "    }\n",
              "</style>\n",
              "<table border=\"1\" class=\"dataframe\">\n",
              "  <thead>\n",
              "    <tr style=\"text-align: right;\">\n",
              "      <th></th>\n",
              "      <th>PassengerId</th>\n",
              "      <th>Survived</th>\n",
              "      <th>Pclass</th>\n",
              "      <th>Name</th>\n",
              "      <th>Sex</th>\n",
              "      <th>Age</th>\n",
              "      <th>SibSp</th>\n",
              "      <th>Parch</th>\n",
              "      <th>Ticket</th>\n",
              "      <th>Fare</th>\n",
              "      <th>Cabin</th>\n",
              "      <th>Embarked</th>\n",
              "    </tr>\n",
              "  </thead>\n",
              "  <tbody>\n",
              "    <tr>\n",
              "      <th>0</th>\n",
              "      <td>1</td>\n",
              "      <td>0</td>\n",
              "      <td>3</td>\n",
              "      <td>Braund, Mr. Owen Harris</td>\n",
              "      <td>male</td>\n",
              "      <td>22.0</td>\n",
              "      <td>1</td>\n",
              "      <td>0</td>\n",
              "      <td>A/5 21171</td>\n",
              "      <td>7.2500</td>\n",
              "      <td>NaN</td>\n",
              "      <td>S</td>\n",
              "    </tr>\n",
              "    <tr>\n",
              "      <th>1</th>\n",
              "      <td>2</td>\n",
              "      <td>1</td>\n",
              "      <td>1</td>\n",
              "      <td>Cumings, Mrs. John Bradley (Florence Briggs Th...</td>\n",
              "      <td>female</td>\n",
              "      <td>38.0</td>\n",
              "      <td>1</td>\n",
              "      <td>0</td>\n",
              "      <td>PC 17599</td>\n",
              "      <td>71.2833</td>\n",
              "      <td>C85</td>\n",
              "      <td>C</td>\n",
              "    </tr>\n",
              "    <tr>\n",
              "      <th>2</th>\n",
              "      <td>3</td>\n",
              "      <td>1</td>\n",
              "      <td>3</td>\n",
              "      <td>Heikkinen, Miss. Laina</td>\n",
              "      <td>female</td>\n",
              "      <td>26.0</td>\n",
              "      <td>0</td>\n",
              "      <td>0</td>\n",
              "      <td>STON/O2. 3101282</td>\n",
              "      <td>7.9250</td>\n",
              "      <td>NaN</td>\n",
              "      <td>S</td>\n",
              "    </tr>\n",
              "    <tr>\n",
              "      <th>3</th>\n",
              "      <td>4</td>\n",
              "      <td>1</td>\n",
              "      <td>1</td>\n",
              "      <td>Futrelle, Mrs. Jacques Heath (Lily May Peel)</td>\n",
              "      <td>female</td>\n",
              "      <td>35.0</td>\n",
              "      <td>1</td>\n",
              "      <td>0</td>\n",
              "      <td>113803</td>\n",
              "      <td>53.1000</td>\n",
              "      <td>C123</td>\n",
              "      <td>S</td>\n",
              "    </tr>\n",
              "    <tr>\n",
              "      <th>4</th>\n",
              "      <td>5</td>\n",
              "      <td>0</td>\n",
              "      <td>3</td>\n",
              "      <td>Allen, Mr. William Henry</td>\n",
              "      <td>male</td>\n",
              "      <td>35.0</td>\n",
              "      <td>0</td>\n",
              "      <td>0</td>\n",
              "      <td>373450</td>\n",
              "      <td>8.0500</td>\n",
              "      <td>NaN</td>\n",
              "      <td>S</td>\n",
              "    </tr>\n",
              "  </tbody>\n",
              "</table>\n",
              "</div>"
            ],
            "text/plain": [
              "   PassengerId  Survived  Pclass  \\\n",
              "0            1         0       3   \n",
              "1            2         1       1   \n",
              "2            3         1       3   \n",
              "3            4         1       1   \n",
              "4            5         0       3   \n",
              "\n",
              "                                                Name     Sex   Age  SibSp  \\\n",
              "0                            Braund, Mr. Owen Harris    male  22.0      1   \n",
              "1  Cumings, Mrs. John Bradley (Florence Briggs Th...  female  38.0      1   \n",
              "2                             Heikkinen, Miss. Laina  female  26.0      0   \n",
              "3       Futrelle, Mrs. Jacques Heath (Lily May Peel)  female  35.0      1   \n",
              "4                           Allen, Mr. William Henry    male  35.0      0   \n",
              "\n",
              "   Parch            Ticket     Fare Cabin Embarked  \n",
              "0      0         A/5 21171   7.2500   NaN        S  \n",
              "1      0          PC 17599  71.2833   C85        C  \n",
              "2      0  STON/O2. 3101282   7.9250   NaN        S  \n",
              "3      0            113803  53.1000  C123        S  \n",
              "4      0            373450   8.0500   NaN        S  "
            ]
          },
          "metadata": {
            "tags": []
          },
          "execution_count": 259
        }
      ]
    },
    {
      "cell_type": "markdown",
      "metadata": {
        "id": "pjXXXGxx_1Sj",
        "colab_type": "text"
      },
      "source": [
        "### Null Value Analysis and Treatment"
      ]
    },
    {
      "cell_type": "markdown",
      "metadata": {
        "id": "d1KNfWZD_1Sk",
        "colab_type": "text"
      },
      "source": [
        "#### Analysis for column `Age`"
      ]
    },
    {
      "cell_type": "code",
      "metadata": {
        "id": "3jhGuAYJ_1Sl",
        "colab_type": "code",
        "outputId": "77d2decd-335c-4938-c6c3-3eccb6b3b210",
        "colab": {}
      },
      "source": [
        "df_train['Age'].isna().sum()/len(df_train['Age']) *100            #19.8 % of the data is null in Age"
      ],
      "execution_count": 0,
      "outputs": [
        {
          "output_type": "execute_result",
          "data": {
            "text/plain": [
              "19.865319865319865"
            ]
          },
          "metadata": {
            "tags": []
          },
          "execution_count": 260
        }
      ]
    },
    {
      "cell_type": "markdown",
      "metadata": {
        "id": "u1Sw2wdv_1Sr",
        "colab_type": "text"
      },
      "source": [
        "##### Let's Analyse the possible ways to impute the missing values of Age and their affect on the distribution of the data "
      ]
    },
    {
      "cell_type": "markdown",
      "metadata": {
        "id": "QBpeZJU4_1Ss",
        "colab_type": "text"
      },
      "source": [
        "1. Imputing the values with 0"
      ]
    },
    {
      "cell_type": "code",
      "metadata": {
        "id": "r020nrEG_1St",
        "colab_type": "code",
        "outputId": "981128f1-47be-4fa7-8fc0-5e10dcd3e9e4",
        "colab": {}
      },
      "source": [
        "sns.distplot(df_train['Age'].fillna(0))"
      ],
      "execution_count": 0,
      "outputs": [
        {
          "output_type": "execute_result",
          "data": {
            "text/plain": [
              "<matplotlib.axes._subplots.AxesSubplot at 0x7f3d15559240>"
            ]
          },
          "metadata": {
            "tags": []
          },
          "execution_count": 261
        },
        {
          "output_type": "display_data",
          "data": {
            "image/png": "[encoded data removed]",
            "text/plain": [
              "<Figure size 432x288 with 1 Axes>"
            ]
          },
          "metadata": {
            "tags": [],
            "needs_background": "light"
          }
        }
      ]
    },
    {
      "cell_type": "markdown",
      "metadata": {
        "id": "XhCkeYIT_1Sx",
        "colab_type": "text"
      },
      "source": [
        "2. Imputing with median "
      ]
    },
    {
      "cell_type": "code",
      "metadata": {
        "id": "RmleAMCQ_1Sy",
        "colab_type": "code",
        "outputId": "eb774198-7088-42dc-ed44-31b732b4db3a",
        "colab": {}
      },
      "source": [
        "sns.distplot(df_train['Age'].fillna(df_train['Age'].median()))\n",
        "plt.show()"
      ],
      "execution_count": 0,
      "outputs": [
        {
          "output_type": "display_data",
          "data": {
            "image/png": "[encoded data removed]",
            "text/plain": [
              "<Figure size 432x288 with 1 Axes>"
            ]
          },
          "metadata": {
            "tags": [],
            "needs_background": "light"
          }
        }
      ]
    },
    {
      "cell_type": "markdown",
      "metadata": {
        "id": "iXtH64XF_1S1",
        "colab_type": "text"
      },
      "source": [
        "3. Imputing with mean"
      ]
    },
    {
      "cell_type": "code",
      "metadata": {
        "id": "etB4wHXy_1S2",
        "colab_type": "code",
        "outputId": "90c9d091-59c5-46df-8802-6fedbc5eeea0",
        "colab": {}
      },
      "source": [
        "sns.distplot(df_train['Age'].fillna(df_train['Age'].mean()))\n",
        "plt.show()"
      ],
      "execution_count": 0,
      "outputs": [
        {
          "output_type": "display_data",
          "data": {
            "image/png": "[encoded data removed]",
            "text/plain": [
              "<Figure size 432x288 with 1 Axes>"
            ]
          },
          "metadata": {
            "tags": [],
            "needs_background": "light"
          }
        }
      ]
    },
    {
      "cell_type": "code",
      "metadata": {
        "id": "CRuAC76U_1S6",
        "colab_type": "code",
        "colab": {}
      },
      "source": [
        "# We see that imputing with mean and median keeps the normal distribution of the data and hence we can either impute with \n",
        "# mean or median value "
      ],
      "execution_count": 0,
      "outputs": []
    },
    {
      "cell_type": "code",
      "metadata": {
        "id": "e-ufme_b_1S9",
        "colab_type": "code",
        "colab": {}
      },
      "source": [
        "df_train['Age']=df_train['Age'].fillna(df_train['Age'].mean())"
      ],
      "execution_count": 0,
      "outputs": []
    },
    {
      "cell_type": "markdown",
      "metadata": {
        "id": "0hAc_XKi_1TC",
        "colab_type": "text"
      },
      "source": [
        "#### Analysis for column `Embarked`"
      ]
    },
    {
      "cell_type": "code",
      "metadata": {
        "id": "YGI5TYhd_1TD",
        "colab_type": "code",
        "outputId": "a40aa7f6-9f07-45f3-8133-38b15a547d91",
        "colab": {}
      },
      "source": [
        "df_train['Embarked'].isna().sum()/len(df_train['Age']) * 100 #percentage of null value in column-->embarked "
      ],
      "execution_count": 0,
      "outputs": [
        {
          "output_type": "execute_result",
          "data": {
            "text/plain": [
              "0.22446689113355783"
            ]
          },
          "metadata": {
            "tags": []
          },
          "execution_count": 266
        }
      ]
    },
    {
      "cell_type": "markdown",
      "metadata": {
        "id": "9TF8xUTb_1TI",
        "colab_type": "text"
      },
      "source": [
        "Since it is a small percentage of null values in `Embarked`, we can retain them as of now."
      ]
    },
    {
      "cell_type": "markdown",
      "metadata": {
        "id": "_4EjQj0r_1TJ",
        "colab_type": "text"
      },
      "source": [
        "#### Analysis for column `Cabin`"
      ]
    },
    {
      "cell_type": "code",
      "metadata": {
        "id": "EqRvfW8t_1TK",
        "colab_type": "code",
        "outputId": "2eb1f8a4-bc93-4766-bc83-cc86f92138ea",
        "colab": {}
      },
      "source": [
        "df_train['Cabin'].isna().sum()/len(df_train['Cabin']) *100"
      ],
      "execution_count": 0,
      "outputs": [
        {
          "output_type": "execute_result",
          "data": {
            "text/plain": [
              "77.10437710437711"
            ]
          },
          "metadata": {
            "tags": []
          },
          "execution_count": 267
        }
      ]
    },
    {
      "cell_type": "markdown",
      "metadata": {
        "id": "mcLm3316_1TP",
        "colab_type": "text"
      },
      "source": [
        "We see that `Cabin` has `77.1 %` of missing values.Hence, we can drop the column as the threshold for any column to have null values is `50%` at max. "
      ]
    },
    {
      "cell_type": "code",
      "metadata": {
        "id": "MB0tD6ow_1TR",
        "colab_type": "code",
        "colab": {}
      },
      "source": [
        "df_train=df_train.drop('Cabin',axis=1)"
      ],
      "execution_count": 0,
      "outputs": []
    },
    {
      "cell_type": "markdown",
      "metadata": {
        "id": "92NCUkm-_1TV",
        "colab_type": "text"
      },
      "source": [
        "### Outlier Treatment"
      ]
    },
    {
      "cell_type": "code",
      "metadata": {
        "id": "d5l9r4I9_1TW",
        "colab_type": "code",
        "outputId": "43612c7e-d583-43df-8caa-8ab9ec4f8f0c",
        "colab": {}
      },
      "source": [
        "df_train.dtypes #type of data in each column in train dataset"
      ],
      "execution_count": 0,
      "outputs": [
        {
          "output_type": "execute_result",
          "data": {
            "text/plain": [
              "PassengerId      int64\n",
              "Survived         int64\n",
              "Pclass           int64\n",
              "Name            object\n",
              "Sex             object\n",
              "Age            float64\n",
              "SibSp            int64\n",
              "Parch            int64\n",
              "Ticket          object\n",
              "Fare           float64\n",
              "Embarked        object\n",
              "dtype: object"
            ]
          },
          "metadata": {
            "tags": []
          },
          "execution_count": 269
        }
      ]
    },
    {
      "cell_type": "markdown",
      "metadata": {
        "id": "koU4wlsr_1Ta",
        "colab_type": "text"
      },
      "source": [
        "#### Analysis for column `Age`"
      ]
    },
    {
      "cell_type": "code",
      "metadata": {
        "id": "2LTpt9Vc_1Tc",
        "colab_type": "code",
        "outputId": "a71b9c49-9e69-4805-bbfb-c3c752fcda4a",
        "colab": {}
      },
      "source": [
        "sns.boxplot(df_train['Age'])"
      ],
      "execution_count": 0,
      "outputs": [
        {
          "output_type": "execute_result",
          "data": {
            "text/plain": [
              "<matplotlib.axes._subplots.AxesSubplot at 0x7f3d15597780>"
            ]
          },
          "metadata": {
            "tags": []
          },
          "execution_count": 270
        },
        {
          "output_type": "display_data",
          "data": {
            "image/png": "[encoded data removed]",
            "text/plain": [
              "<Figure size 432x288 with 1 Axes>"
            ]
          },
          "metadata": {
            "tags": [],
            "needs_background": "light"
          }
        }
      ]
    },
    {
      "cell_type": "markdown",
      "metadata": {
        "id": "qyWGU9E8_1Tm",
        "colab_type": "text"
      },
      "source": [
        "Since, we see that most of the outliers are below 0 and above 55 years of age,hence we can drop the outliers. "
      ]
    },
    {
      "cell_type": "code",
      "metadata": {
        "id": "-FDWJ4Wf_1Tr",
        "colab_type": "code",
        "colab": {}
      },
      "source": [
        "#Removing the outlier for Age\n",
        "Q1 = df_train['Age'].quantile(0.10) \n",
        "Q3 = df_train['Age'].quantile(0.95)\n",
        "IQR = Q3 - Q1\n",
        "df_train = df_train[(df_train['Age'] >= Q1) & (df_train['Age'] <= Q3)] #retaining ages within 10th and 85th percentile"
      ],
      "execution_count": 0,
      "outputs": []
    },
    {
      "cell_type": "code",
      "metadata": {
        "id": "DQYnDBvg_1Tw",
        "colab_type": "code",
        "outputId": "7f808dff-72d1-4490-e5eb-b3bf4b9c8075",
        "colab": {}
      },
      "source": [
        "sns.boxplot(df_train['Age'])"
      ],
      "execution_count": 0,
      "outputs": [
        {
          "output_type": "execute_result",
          "data": {
            "text/plain": [
              "<matplotlib.axes._subplots.AxesSubplot at 0x7f3d15d2a978>"
            ]
          },
          "metadata": {
            "tags": []
          },
          "execution_count": 272
        },
        {
          "output_type": "display_data",
          "data": {
            "image/png": "[encoded data removed]",
            "text/plain": [
              "<Figure size 432x288 with 1 Axes>"
            ]
          },
          "metadata": {
            "tags": [],
            "needs_background": "light"
          }
        }
      ]
    },
    {
      "cell_type": "markdown",
      "metadata": {
        "id": "mU8HRhLG_1Tz",
        "colab_type": "text"
      },
      "source": [
        "#### Analysis for `Pclass`"
      ]
    },
    {
      "cell_type": "code",
      "metadata": {
        "id": "O6gop-An_1T0",
        "colab_type": "code",
        "outputId": "a3d231cc-95fa-4413-d341-35e595ae9c82",
        "colab": {}
      },
      "source": [
        "sns.boxplot(df_train['Pclass'])\n",
        "plt.show() # no outliers for Pclass "
      ],
      "execution_count": 0,
      "outputs": [
        {
          "output_type": "display_data",
          "data": {
            "image/png": "[encoded data removed]",
            "text/plain": [
              "<Figure size 432x288 with 1 Axes>"
            ]
          },
          "metadata": {
            "tags": [],
            "needs_background": "light"
          }
        }
      ]
    },
    {
      "cell_type": "markdown",
      "metadata": {
        "id": "2jcZDccF_1T4",
        "colab_type": "text"
      },
      "source": [
        "#### Analysis for `SibSp`"
      ]
    },
    {
      "cell_type": "code",
      "metadata": {
        "id": "uLPGjjzx_1T5",
        "colab_type": "code",
        "outputId": "da84e9a0-a4c3-422a-dae8-c0f7993dbb3c",
        "colab": {}
      },
      "source": [
        "sns.boxplot(df_train['SibSp'])\n",
        "plt.show()"
      ],
      "execution_count": 0,
      "outputs": [
        {
          "output_type": "display_data",
          "data": {
            "image/png": "[encoded data removed]",
            "text/plain": [
              "<Figure size 432x288 with 1 Axes>"
            ]
          },
          "metadata": {
            "tags": [],
            "needs_background": "light"
          }
        }
      ]
    },
    {
      "cell_type": "code",
      "metadata": {
        "id": "yRIkqHWq_1T-",
        "colab_type": "code",
        "colab": {}
      },
      "source": [
        "Q1 = df_train['SibSp'].quantile(0.05) \n",
        "Q3 = df_train['SibSp'].quantile(0.95)\n",
        "IQR = Q3 - Q1\n",
        "df_train = df_train[(df_train['SibSp'] >= Q1) & (df_train['SibSp'] <= Q3)] #retaining values within 5th and 95th percentile"
      ],
      "execution_count": 0,
      "outputs": []
    },
    {
      "cell_type": "code",
      "metadata": {
        "id": "Rmjc03Yu_1UA",
        "colab_type": "code",
        "outputId": "e4475b35-dce7-4858-8c41-4bfe6a402cb5",
        "colab": {}
      },
      "source": [
        "sns.boxplot(df_train['SibSp'])\n",
        "plt.show()"
      ],
      "execution_count": 0,
      "outputs": [
        {
          "output_type": "display_data",
          "data": {
            "image/png": "[encoded data removed]",
            "text/plain": [
              "<Figure size 432x288 with 1 Axes>"
            ]
          },
          "metadata": {
            "tags": [],
            "needs_background": "light"
          }
        }
      ]
    },
    {
      "cell_type": "markdown",
      "metadata": {
        "id": "4m7LkrZ3_1UD",
        "colab_type": "text"
      },
      "source": [
        "#### Analysis for `Parch`"
      ]
    },
    {
      "cell_type": "code",
      "metadata": {
        "id": "kWiyq-IT_1UE",
        "colab_type": "code",
        "outputId": "9ef754e6-5ebd-4db5-b53c-f3b23aae8b61",
        "colab": {}
      },
      "source": [
        "sns.boxplot(df_train['Parch'])\n",
        "plt.show()"
      ],
      "execution_count": 0,
      "outputs": [
        {
          "output_type": "display_data",
          "data": {
            "image/png": "[encoded data removed]",
            "text/plain": [
              "<Figure size 432x288 with 1 Axes>"
            ]
          },
          "metadata": {
            "tags": [],
            "needs_background": "light"
          }
        }
      ]
    },
    {
      "cell_type": "code",
      "metadata": {
        "id": "ZWQqi68t_1UH",
        "colab_type": "code",
        "colab": {}
      },
      "source": [
        "Q1 = df_train['Parch'].quantile(0.05) \n",
        "Q3 = df_train['Parch'].quantile(0.95)\n",
        "IQR = Q3 - Q1\n",
        "df_train = df_train[(df_train['Parch'] >= Q1) & (df_train['Parch'] <= Q3)] #retaining values within 5th and 95th percentile"
      ],
      "execution_count": 0,
      "outputs": []
    },
    {
      "cell_type": "code",
      "metadata": {
        "id": "pEiFyH4W_1UL",
        "colab_type": "code",
        "outputId": "2bf6c3a6-004d-4412-9ab0-10be106aae14",
        "colab": {}
      },
      "source": [
        "sns.boxplot(df_train['Parch'])"
      ],
      "execution_count": 0,
      "outputs": [
        {
          "output_type": "execute_result",
          "data": {
            "text/plain": [
              "<matplotlib.axes._subplots.AxesSubplot at 0x7f3d155b2a20>"
            ]
          },
          "metadata": {
            "tags": []
          },
          "execution_count": 279
        },
        {
          "output_type": "display_data",
          "data": {
            "image/png": "[encoded data removed]",
            "text/plain": [
              "<Figure size 432x288 with 1 Axes>"
            ]
          },
          "metadata": {
            "tags": [],
            "needs_background": "light"
          }
        }
      ]
    },
    {
      "cell_type": "code",
      "metadata": {
        "id": "i8KRYw44_1UO",
        "colab_type": "code",
        "outputId": "ca9c44d6-7f7e-489b-ff00-f94dae372661",
        "colab": {}
      },
      "source": [
        "df_train['Parch'].value_counts()"
      ],
      "execution_count": 0,
      "outputs": [
        {
          "output_type": "execute_result",
          "data": {
            "text/plain": [
              "0    631\n",
              "1     68\n",
              "2     34\n",
              "Name: Parch, dtype: int64"
            ]
          },
          "metadata": {
            "tags": []
          },
          "execution_count": 280
        }
      ]
    },
    {
      "cell_type": "markdown",
      "metadata": {
        "id": "GIh_1JxO_1UW",
        "colab_type": "text"
      },
      "source": [
        "Since, we see that the column `Parch` has all values `0` after Outlier Treatment, hence we can drop the column."
      ]
    },
    {
      "cell_type": "code",
      "metadata": {
        "id": "kF1PWtVf_1UX",
        "colab_type": "code",
        "colab": {}
      },
      "source": [
        "df_train=df_train.drop('Parch',axis=1)"
      ],
      "execution_count": 0,
      "outputs": []
    },
    {
      "cell_type": "markdown",
      "metadata": {
        "id": "CMbdF-5U_1Ub",
        "colab_type": "text"
      },
      "source": [
        "#### Analysis for `Fare`"
      ]
    },
    {
      "cell_type": "code",
      "metadata": {
        "id": "WN2DTQ00_1Uc",
        "colab_type": "code",
        "outputId": "87199a09-b3ba-4161-d419-4528e7580561",
        "colab": {}
      },
      "source": [
        "sns.boxplot(df_train['Fare'])\n",
        "plt.show()"
      ],
      "execution_count": 0,
      "outputs": [
        {
          "output_type": "display_data",
          "data": {
            "image/png": "[encoded data removed]",
            "text/plain": [
              "<Figure size 432x288 with 1 Axes>"
            ]
          },
          "metadata": {
            "tags": [],
            "needs_background": "light"
          }
        }
      ]
    },
    {
      "cell_type": "code",
      "metadata": {
        "id": "bAkWDgag_1Ug",
        "colab_type": "code",
        "outputId": "6b2307ff-2dc7-4fb2-8dc7-e2827e13fe32",
        "colab": {}
      },
      "source": [
        "sns.distplot(df_train['Fare'])"
      ],
      "execution_count": 0,
      "outputs": [
        {
          "output_type": "execute_result",
          "data": {
            "text/plain": [
              "<matplotlib.axes._subplots.AxesSubplot at 0x7f3d156cbc18>"
            ]
          },
          "metadata": {
            "tags": []
          },
          "execution_count": 283
        },
        {
          "output_type": "display_data",
          "data": {
            "image/png": "[encoded data removed]",
            "text/plain": [
              "<Figure size 432x288 with 1 Axes>"
            ]
          },
          "metadata": {
            "tags": [],
            "needs_background": "light"
          }
        }
      ]
    },
    {
      "cell_type": "code",
      "metadata": {
        "id": "SXjnLE-r_1Uj",
        "colab_type": "code",
        "colab": {}
      },
      "source": [
        "Q1 = df_train['Fare'].quantile(0.05)\n",
        "Q3 = df_train['Fare'].quantile(0.95)\n",
        "IQR = Q3 - Q1\n",
        "df_train = df_train[(df_train['Fare'] >= Q1) & (df_train['Fare'] <= Q3)] #retaining values within 5th and 95th percentile"
      ],
      "execution_count": 0,
      "outputs": []
    },
    {
      "cell_type": "code",
      "metadata": {
        "id": "sdb4mzIO_1Ul",
        "colab_type": "code",
        "outputId": "2df9d8a4-3a8d-4740-fc1a-88d305ebfeda",
        "colab": {}
      },
      "source": [
        "sns.boxplot(df_train['Fare'])"
      ],
      "execution_count": 0,
      "outputs": [
        {
          "output_type": "execute_result",
          "data": {
            "text/plain": [
              "<matplotlib.axes._subplots.AxesSubplot at 0x7f3d15265940>"
            ]
          },
          "metadata": {
            "tags": []
          },
          "execution_count": 285
        },
        {
          "output_type": "display_data",
          "data": {
            "image/png": "[encoded data removed]",
            "text/plain": [
              "<Figure size 432x288 with 1 Axes>"
            ]
          },
          "metadata": {
            "tags": [],
            "needs_background": "light"
          }
        }
      ]
    },
    {
      "cell_type": "code",
      "metadata": {
        "id": "KA0BM1k5_1Uq",
        "colab_type": "code",
        "outputId": "2008fdb8-38c2-4978-dfea-3ce3c4081e85",
        "colab": {}
      },
      "source": [
        "sns.distplot(df_train['Fare'])"
      ],
      "execution_count": 0,
      "outputs": [
        {
          "output_type": "execute_result",
          "data": {
            "text/plain": [
              "<matplotlib.axes._subplots.AxesSubplot at 0x7f3d1523f668>"
            ]
          },
          "metadata": {
            "tags": []
          },
          "execution_count": 286
        },
        {
          "output_type": "display_data",
          "data": {
            "image/png": "[encoded data removed]",
            "text/plain": [
              "<Figure size 432x288 with 1 Axes>"
            ]
          },
          "metadata": {
            "tags": [],
            "needs_background": "light"
          }
        }
      ]
    },
    {
      "cell_type": "code",
      "metadata": {
        "id": "BClJgTIB_1Ut",
        "colab_type": "code",
        "outputId": "4f9c1532-cc5f-4ba1-f7ef-205f73e0081a",
        "colab": {}
      },
      "source": [
        "df_train.corr()"
      ],
      "execution_count": 0,
      "outputs": [
        {
          "output_type": "execute_result",
          "data": {
            "text/html": [
              "<div>\n",
              "<style scoped>\n",
              "    .dataframe tbody tr th:only-of-type {\n",
              "        vertical-align: middle;\n",
              "    }\n",
              "\n",
              "    .dataframe tbody tr th {\n",
              "        vertical-align: top;\n",
              "    }\n",
              "\n",
              "    .dataframe thead th {\n",
              "        text-align: right;\n",
              "    }\n",
              "</style>\n",
              "<table border=\"1\" class=\"dataframe\">\n",
              "  <thead>\n",
              "    <tr style=\"text-align: right;\">\n",
              "      <th></th>\n",
              "      <th>PassengerId</th>\n",
              "      <th>Survived</th>\n",
              "      <th>Pclass</th>\n",
              "      <th>Age</th>\n",
              "      <th>SibSp</th>\n",
              "      <th>Fare</th>\n",
              "    </tr>\n",
              "  </thead>\n",
              "  <tbody>\n",
              "    <tr>\n",
              "      <th>PassengerId</th>\n",
              "      <td>1.000000</td>\n",
              "      <td>-0.022176</td>\n",
              "      <td>-0.014377</td>\n",
              "      <td>0.017013</td>\n",
              "      <td>-0.037226</td>\n",
              "      <td>0.004831</td>\n",
              "    </tr>\n",
              "    <tr>\n",
              "      <th>Survived</th>\n",
              "      <td>-0.022176</td>\n",
              "      <td>1.000000</td>\n",
              "      <td>-0.350394</td>\n",
              "      <td>0.046230</td>\n",
              "      <td>0.083930</td>\n",
              "      <td>0.322319</td>\n",
              "    </tr>\n",
              "    <tr>\n",
              "      <th>Pclass</th>\n",
              "      <td>-0.014377</td>\n",
              "      <td>-0.350394</td>\n",
              "      <td>1.000000</td>\n",
              "      <td>-0.313782</td>\n",
              "      <td>-0.147076</td>\n",
              "      <td>-0.749321</td>\n",
              "    </tr>\n",
              "    <tr>\n",
              "      <th>Age</th>\n",
              "      <td>0.017013</td>\n",
              "      <td>0.046230</td>\n",
              "      <td>-0.313782</td>\n",
              "      <td>1.000000</td>\n",
              "      <td>0.085695</td>\n",
              "      <td>0.216820</td>\n",
              "    </tr>\n",
              "    <tr>\n",
              "      <th>SibSp</th>\n",
              "      <td>-0.037226</td>\n",
              "      <td>0.083930</td>\n",
              "      <td>-0.147076</td>\n",
              "      <td>0.085695</td>\n",
              "      <td>1.000000</td>\n",
              "      <td>0.358012</td>\n",
              "    </tr>\n",
              "    <tr>\n",
              "      <th>Fare</th>\n",
              "      <td>0.004831</td>\n",
              "      <td>0.322319</td>\n",
              "      <td>-0.749321</td>\n",
              "      <td>0.216820</td>\n",
              "      <td>0.358012</td>\n",
              "      <td>1.000000</td>\n",
              "    </tr>\n",
              "  </tbody>\n",
              "</table>\n",
              "</div>"
            ],
            "text/plain": [
              "             PassengerId  Survived    Pclass       Age     SibSp      Fare\n",
              "PassengerId     1.000000 -0.022176 -0.014377  0.017013 -0.037226  0.004831\n",
              "Survived       -0.022176  1.000000 -0.350394  0.046230  0.083930  0.322319\n",
              "Pclass         -0.014377 -0.350394  1.000000 -0.313782 -0.147076 -0.749321\n",
              "Age             0.017013  0.046230 -0.313782  1.000000  0.085695  0.216820\n",
              "SibSp          -0.037226  0.083930 -0.147076  0.085695  1.000000  0.358012\n",
              "Fare            0.004831  0.322319 -0.749321  0.216820  0.358012  1.000000"
            ]
          },
          "metadata": {
            "tags": []
          },
          "execution_count": 287
        }
      ]
    },
    {
      "cell_type": "markdown",
      "metadata": {
        "id": "gXw-8Ff1_1Uw",
        "colab_type": "text"
      },
      "source": [
        "So, we can see that the `Fare` has highest correlation with `Survival`, so we have retained 5 % to 70 % of the Fares."
      ]
    },
    {
      "cell_type": "markdown",
      "metadata": {
        "id": "Z7UsRD54_1Uy",
        "colab_type": "text"
      },
      "source": [
        "Also, we can drop passenger id as it does not contribute to predict whether a passenger will survive or die."
      ]
    },
    {
      "cell_type": "code",
      "metadata": {
        "id": "UEwcFrVg_1Uz",
        "colab_type": "code",
        "colab": {}
      },
      "source": [
        "df_train=df_train.drop('PassengerId',axis=1)"
      ],
      "execution_count": 0,
      "outputs": []
    },
    {
      "cell_type": "code",
      "metadata": {
        "id": "wmPYv5Lf_1U3",
        "colab_type": "code",
        "outputId": "5824f9b6-5c89-4c13-b0ad-37a97c1e6777",
        "colab": {}
      },
      "source": [
        "df_train.shape "
      ],
      "execution_count": 0,
      "outputs": [
        {
          "output_type": "execute_result",
          "data": {
            "text/plain": [
              "(659, 9)"
            ]
          },
          "metadata": {
            "tags": []
          },
          "execution_count": 289
        }
      ]
    },
    {
      "cell_type": "code",
      "metadata": {
        "id": "wplyAuDg_1U9",
        "colab_type": "code",
        "outputId": "e5f24e0f-88fd-44b5-efac-1c6cd45fa404",
        "colab": {}
      },
      "source": [
        "round(df_train.shape[0]/891 *100,2) "
      ],
      "execution_count": 0,
      "outputs": [
        {
          "output_type": "execute_result",
          "data": {
            "text/plain": [
              "73.96"
            ]
          },
          "metadata": {
            "tags": []
          },
          "execution_count": 290
        }
      ]
    },
    {
      "cell_type": "markdown",
      "metadata": {
        "id": "CwJ7Inl-_1VB",
        "colab_type": "text"
      },
      "source": [
        "We have retained about `41.64%` of the original data."
      ]
    },
    {
      "cell_type": "code",
      "metadata": {
        "id": "VQHruine_1VC",
        "colab_type": "code",
        "outputId": "d133343d-59e0-42a4-df11-ed90a3c1119c",
        "colab": {}
      },
      "source": [
        "np.set_printoptions(threshold=np.inf) #number of null values per row\n",
        "np.array(df_train.isna().sum(axis=1))"
      ],
      "execution_count": 0,
      "outputs": [
        {
          "output_type": "execute_result",
          "data": {
            "text/plain": [
              "array([0, 0, 0, 0, 0, 0, 0, 0, 0, 0, 0, 0, 0, 0, 0, 0, 0, 0, 0, 0, 0, 0,\n",
              "       0, 0, 0, 0, 0, 0, 0, 0, 0, 0, 0, 0, 0, 0, 0, 0, 0, 0, 0, 1, 0, 0,\n",
              "       0, 0, 0, 0, 0, 0, 0, 0, 0, 0, 0, 0, 0, 0, 0, 0, 0, 0, 0, 0, 0, 0,\n",
              "       0, 0, 0, 0, 0, 0, 0, 0, 0, 0, 0, 0, 0, 0, 0, 0, 0, 0, 0, 0, 0, 0,\n",
              "       0, 0, 0, 0, 0, 0, 0, 0, 0, 0, 0, 0, 0, 0, 0, 0, 0, 0, 0, 0, 0, 0,\n",
              "       0, 0, 0, 0, 0, 0, 0, 0, 0, 0, 0, 0, 0, 0, 0, 0, 0, 0, 0, 0, 0, 0,\n",
              "       0, 0, 0, 0, 0, 0, 0, 0, 0, 0, 0, 0, 0, 0, 0, 0, 0, 0, 0, 0, 0, 0,\n",
              "       0, 0, 0, 0, 0, 0, 0, 0, 0, 0, 0, 0, 0, 0, 0, 0, 0, 0, 0, 0, 0, 0,\n",
              "       0, 0, 0, 0, 0, 0, 0, 0, 0, 0, 0, 0, 0, 0, 0, 0, 0, 0, 0, 0, 0, 0,\n",
              "       0, 0, 0, 0, 0, 0, 0, 0, 0, 0, 0, 0, 0, 0, 0, 0, 0, 0, 0, 0, 0, 0,\n",
              "       0, 0, 0, 0, 0, 0, 0, 0, 0, 0, 0, 0, 0, 0, 0, 0, 0, 0, 0, 0, 0, 0,\n",
              "       0, 0, 0, 0, 0, 0, 0, 0, 0, 0, 0, 0, 0, 0, 0, 0, 0, 0, 0, 0, 0, 0,\n",
              "       0, 0, 0, 0, 0, 0, 0, 0, 0, 0, 0, 0, 0, 0, 0, 0, 0, 0, 0, 0, 0, 0,\n",
              "       0, 0, 0, 0, 0, 0, 0, 0, 0, 0, 0, 0, 0, 0, 0, 0, 0, 0, 0, 0, 0, 0,\n",
              "       0, 0, 0, 0, 0, 0, 0, 0, 0, 0, 0, 0, 0, 0, 0, 0, 0, 0, 0, 0, 0, 0,\n",
              "       0, 0, 0, 0, 0, 0, 0, 0, 0, 0, 0, 0, 0, 0, 0, 0, 0, 0, 0, 0, 0, 0,\n",
              "       0, 0, 0, 0, 0, 0, 0, 0, 0, 0, 0, 0, 0, 0, 0, 0, 0, 0, 0, 0, 0, 0,\n",
              "       0, 0, 0, 0, 0, 0, 0, 0, 0, 0, 0, 0, 0, 0, 0, 0, 0, 0, 0, 0, 0, 0,\n",
              "       0, 0, 0, 0, 0, 0, 0, 0, 0, 0, 0, 0, 0, 0, 0, 0, 0, 0, 0, 0, 0, 0,\n",
              "       0, 0, 0, 0, 0, 0, 0, 0, 0, 0, 0, 0, 0, 0, 0, 0, 0, 0, 0, 0, 0, 0,\n",
              "       0, 0, 0, 0, 0, 0, 0, 0, 0, 0, 0, 0, 0, 0, 0, 0, 0, 0, 0, 0, 0, 0,\n",
              "       0, 0, 0, 0, 0, 0, 0, 0, 0, 0, 0, 0, 0, 0, 0, 0, 0, 0, 0, 0, 0, 0,\n",
              "       0, 0, 0, 0, 0, 0, 0, 0, 0, 0, 0, 0, 0, 0, 0, 0, 0, 0, 0, 0, 0, 0,\n",
              "       0, 0, 0, 0, 0, 0, 0, 0, 0, 0, 0, 0, 0, 0, 0, 0, 0, 0, 0, 0, 0, 0,\n",
              "       0, 0, 0, 0, 0, 0, 0, 0, 0, 0, 0, 0, 0, 0, 0, 0, 0, 0, 0, 0, 0, 0,\n",
              "       0, 0, 0, 0, 0, 0, 0, 0, 0, 0, 0, 0, 0, 0, 0, 0, 0, 0, 0, 0, 0, 0,\n",
              "       0, 0, 0, 0, 0, 0, 0, 0, 0, 0, 0, 0, 0, 0, 0, 0, 0, 0, 0, 0, 0, 0,\n",
              "       0, 0, 0, 0, 0, 0, 0, 0, 0, 0, 0, 0, 0, 0, 0, 0, 0, 0, 0, 0, 0, 0,\n",
              "       0, 0, 0, 0, 0, 0, 0, 0, 0, 0, 0, 0, 0, 0, 0, 0, 0, 0, 0, 0, 0, 0,\n",
              "       0, 0, 0, 0, 0, 0, 0, 0, 0, 0, 0, 0, 0, 0, 0, 0, 0, 0, 0, 0, 0])"
            ]
          },
          "metadata": {
            "tags": []
          },
          "execution_count": 291
        }
      ]
    },
    {
      "cell_type": "code",
      "metadata": {
        "id": "31BYxya-_1VK",
        "colab_type": "code",
        "colab": {}
      },
      "source": [
        "df_train_final = df_train # final dataset for training"
      ],
      "execution_count": 0,
      "outputs": []
    },
    {
      "cell_type": "code",
      "metadata": {
        "id": "nWZoLGIG_1VO",
        "colab_type": "code",
        "colab": {}
      },
      "source": [
        "df_train_final = df_train_final.drop(['Name','Ticket'],axis=1) #dropping name and Ticket "
      ],
      "execution_count": 0,
      "outputs": []
    },
    {
      "cell_type": "code",
      "metadata": {
        "id": "cLwZbRm9_1VR",
        "colab_type": "code",
        "outputId": "100e0fca-971e-45e0-955d-ded68d4279d4",
        "colab": {}
      },
      "source": [
        "df_train_final.shape\n"
      ],
      "execution_count": 0,
      "outputs": [
        {
          "output_type": "execute_result",
          "data": {
            "text/plain": [
              "(659, 7)"
            ]
          },
          "metadata": {
            "tags": []
          },
          "execution_count": 294
        }
      ]
    },
    {
      "cell_type": "markdown",
      "metadata": {
        "id": "bsdMvr64_1VX",
        "colab_type": "text"
      },
      "source": [
        "#### Dummy Variables"
      ]
    },
    {
      "cell_type": "markdown",
      "metadata": {
        "id": "nSFgvwxu_1VY",
        "colab_type": "text"
      },
      "source": [
        "Introducing dummy variables for columns `Embarked` and `Sex`"
      ]
    },
    {
      "cell_type": "code",
      "metadata": {
        "id": "OGPTqxaY_1VZ",
        "colab_type": "code",
        "colab": {}
      },
      "source": [
        "df_train_final = pd.get_dummies(df_train_final,columns=['Embarked','Sex'],drop_first=True)\n"
      ],
      "execution_count": 0,
      "outputs": []
    },
    {
      "cell_type": "code",
      "metadata": {
        "id": "AYy1zMzn_1Ve",
        "colab_type": "code",
        "outputId": "0236d0eb-aa44-4bc0-cabb-163eac4a21a0",
        "colab": {}
      },
      "source": [
        "df_train_final.head(5)"
      ],
      "execution_count": 0,
      "outputs": [
        {
          "output_type": "execute_result",
          "data": {
            "text/html": [
              "<div>\n",
              "<style scoped>\n",
              "    .dataframe tbody tr th:only-of-type {\n",
              "        vertical-align: middle;\n",
              "    }\n",
              "\n",
              "    .dataframe tbody tr th {\n",
              "        vertical-align: top;\n",
              "    }\n",
              "\n",
              "    .dataframe thead th {\n",
              "        text-align: right;\n",
              "    }\n",
              "</style>\n",
              "<table border=\"1\" class=\"dataframe\">\n",
              "  <thead>\n",
              "    <tr style=\"text-align: right;\">\n",
              "      <th></th>\n",
              "      <th>Survived</th>\n",
              "      <th>Pclass</th>\n",
              "      <th>Age</th>\n",
              "      <th>SibSp</th>\n",
              "      <th>Fare</th>\n",
              "      <th>Embarked_Q</th>\n",
              "      <th>Embarked_S</th>\n",
              "      <th>Sex_male</th>\n",
              "    </tr>\n",
              "  </thead>\n",
              "  <tbody>\n",
              "    <tr>\n",
              "      <th>0</th>\n",
              "      <td>0</td>\n",
              "      <td>3</td>\n",
              "      <td>22.0</td>\n",
              "      <td>1</td>\n",
              "      <td>7.2500</td>\n",
              "      <td>0</td>\n",
              "      <td>1</td>\n",
              "      <td>1</td>\n",
              "    </tr>\n",
              "    <tr>\n",
              "      <th>1</th>\n",
              "      <td>1</td>\n",
              "      <td>1</td>\n",
              "      <td>38.0</td>\n",
              "      <td>1</td>\n",
              "      <td>71.2833</td>\n",
              "      <td>0</td>\n",
              "      <td>0</td>\n",
              "      <td>0</td>\n",
              "    </tr>\n",
              "    <tr>\n",
              "      <th>2</th>\n",
              "      <td>1</td>\n",
              "      <td>3</td>\n",
              "      <td>26.0</td>\n",
              "      <td>0</td>\n",
              "      <td>7.9250</td>\n",
              "      <td>0</td>\n",
              "      <td>1</td>\n",
              "      <td>0</td>\n",
              "    </tr>\n",
              "    <tr>\n",
              "      <th>3</th>\n",
              "      <td>1</td>\n",
              "      <td>1</td>\n",
              "      <td>35.0</td>\n",
              "      <td>1</td>\n",
              "      <td>53.1000</td>\n",
              "      <td>0</td>\n",
              "      <td>1</td>\n",
              "      <td>0</td>\n",
              "    </tr>\n",
              "    <tr>\n",
              "      <th>4</th>\n",
              "      <td>0</td>\n",
              "      <td>3</td>\n",
              "      <td>35.0</td>\n",
              "      <td>0</td>\n",
              "      <td>8.0500</td>\n",
              "      <td>0</td>\n",
              "      <td>1</td>\n",
              "      <td>1</td>\n",
              "    </tr>\n",
              "  </tbody>\n",
              "</table>\n",
              "</div>"
            ],
            "text/plain": [
              "   Survived  Pclass   Age  SibSp     Fare  Embarked_Q  Embarked_S  Sex_male\n",
              "0         0       3  22.0      1   7.2500           0           1         1\n",
              "1         1       1  38.0      1  71.2833           0           0         0\n",
              "2         1       3  26.0      0   7.9250           0           1         0\n",
              "3         1       1  35.0      1  53.1000           0           1         0\n",
              "4         0       3  35.0      0   8.0500           0           1         1"
            ]
          },
          "metadata": {
            "tags": []
          },
          "execution_count": 296
        }
      ]
    },
    {
      "cell_type": "code",
      "metadata": {
        "id": "rsavAJPz_1Vi",
        "colab_type": "code",
        "colab": {}
      },
      "source": [
        "X_train = df_train_final.drop(['Survived'],axis=1)\n",
        "y_train = df_train_final['Survived']"
      ],
      "execution_count": 0,
      "outputs": []
    },
    {
      "cell_type": "markdown",
      "metadata": {
        "id": "MhFnnbpG_1Vl",
        "colab_type": "text"
      },
      "source": [
        "### Feature Scaling"
      ]
    },
    {
      "cell_type": "markdown",
      "metadata": {
        "id": "yAOa60LZ_1Vm",
        "colab_type": "text"
      },
      "source": [
        "Let's do feature scaling for independent variables which will be used for model building."
      ]
    },
    {
      "cell_type": "code",
      "metadata": {
        "id": "sKKtrZwM_1Vn",
        "colab_type": "code",
        "colab": {}
      },
      "source": [
        "from sklearn.preprocessing import StandardScaler"
      ],
      "execution_count": 0,
      "outputs": []
    },
    {
      "cell_type": "code",
      "metadata": {
        "id": "8EgJB7uG_1Vp",
        "colab_type": "code",
        "outputId": "2ed1cc62-865f-4009-f1ac-b47df56009ca",
        "colab": {}
      },
      "source": [
        "scaler = StandardScaler()\n",
        "\n",
        "X_train[['Pclass','Age','Fare','SibSp','Embarked_Q','Embarked_S','Sex_male']] = scaler.fit_transform(X_train[['Pclass','Age','Fare','SibSp','Embarked_Q','Embarked_S','Sex_male']])\n",
        "\n",
        "X_train.head()"
      ],
      "execution_count": 0,
      "outputs": [
        {
          "output_type": "execute_result",
          "data": {
            "text/html": [
              "<div>\n",
              "<style scoped>\n",
              "    .dataframe tbody tr th:only-of-type {\n",
              "        vertical-align: middle;\n",
              "    }\n",
              "\n",
              "    .dataframe tbody tr th {\n",
              "        vertical-align: top;\n",
              "    }\n",
              "\n",
              "    .dataframe thead th {\n",
              "        text-align: right;\n",
              "    }\n",
              "</style>\n",
              "<table border=\"1\" class=\"dataframe\">\n",
              "  <thead>\n",
              "    <tr style=\"text-align: right;\">\n",
              "      <th></th>\n",
              "      <th>Pclass</th>\n",
              "      <th>Age</th>\n",
              "      <th>SibSp</th>\n",
              "      <th>Fare</th>\n",
              "      <th>Embarked_Q</th>\n",
              "      <th>Embarked_S</th>\n",
              "      <th>Sex_male</th>\n",
              "    </tr>\n",
              "  </thead>\n",
              "  <tbody>\n",
              "    <tr>\n",
              "      <th>0</th>\n",
              "      <td>0.79668</td>\n",
              "      <td>-0.958453</td>\n",
              "      <td>1.405676</td>\n",
              "      <td>-0.683539</td>\n",
              "      <td>-0.327968</td>\n",
              "      <td>0.608328</td>\n",
              "      <td>0.688675</td>\n",
              "    </tr>\n",
              "    <tr>\n",
              "      <th>1</th>\n",
              "      <td>-1.69153</td>\n",
              "      <td>0.892834</td>\n",
              "      <td>1.405676</td>\n",
              "      <td>2.204656</td>\n",
              "      <td>-0.327968</td>\n",
              "      <td>-1.643851</td>\n",
              "      <td>-1.452064</td>\n",
              "    </tr>\n",
              "    <tr>\n",
              "      <th>2</th>\n",
              "      <td>0.79668</td>\n",
              "      <td>-0.495632</td>\n",
              "      <td>-0.561077</td>\n",
              "      <td>-0.653093</td>\n",
              "      <td>-0.327968</td>\n",
              "      <td>0.608328</td>\n",
              "      <td>-1.452064</td>\n",
              "    </tr>\n",
              "    <tr>\n",
              "      <th>3</th>\n",
              "      <td>-1.69153</td>\n",
              "      <td>0.545718</td>\n",
              "      <td>1.405676</td>\n",
              "      <td>1.384506</td>\n",
              "      <td>-0.327968</td>\n",
              "      <td>0.608328</td>\n",
              "      <td>-1.452064</td>\n",
              "    </tr>\n",
              "    <tr>\n",
              "      <th>4</th>\n",
              "      <td>0.79668</td>\n",
              "      <td>0.545718</td>\n",
              "      <td>-0.561077</td>\n",
              "      <td>-0.647455</td>\n",
              "      <td>-0.327968</td>\n",
              "      <td>0.608328</td>\n",
              "      <td>0.688675</td>\n",
              "    </tr>\n",
              "  </tbody>\n",
              "</table>\n",
              "</div>"
            ],
            "text/plain": [
              "    Pclass       Age     SibSp      Fare  Embarked_Q  Embarked_S  Sex_male\n",
              "0  0.79668 -0.958453  1.405676 -0.683539   -0.327968    0.608328  0.688675\n",
              "1 -1.69153  0.892834  1.405676  2.204656   -0.327968   -1.643851 -1.452064\n",
              "2  0.79668 -0.495632 -0.561077 -0.653093   -0.327968    0.608328 -1.452064\n",
              "3 -1.69153  0.545718  1.405676  1.384506   -0.327968    0.608328 -1.452064\n",
              "4  0.79668  0.545718 -0.561077 -0.647455   -0.327968    0.608328  0.688675"
            ]
          },
          "metadata": {
            "tags": []
          },
          "execution_count": 299
        }
      ]
    },
    {
      "cell_type": "markdown",
      "metadata": {
        "id": "pwhfS92f_1Vr",
        "colab_type": "text"
      },
      "source": [
        "### Correlation matrix "
      ]
    },
    {
      "cell_type": "markdown",
      "metadata": {
        "id": "hYhs6N7e_1Vs",
        "colab_type": "text"
      },
      "source": [
        "Plotting the correlation among the variables below"
      ]
    },
    {
      "cell_type": "code",
      "metadata": {
        "id": "FSaRkQZI_1Vt",
        "colab_type": "code",
        "outputId": "88e5956e-fa56-459e-ed19-05c824197f13",
        "colab": {}
      },
      "source": [
        "sns.heatmap(df_train_final.corr(),annot=True)\n",
        "plt.show()"
      ],
      "execution_count": 0,
      "outputs": [
        {
          "output_type": "display_data",
          "data": {
            "image/png": "[encoded data removed]",
            "text/plain": [
              "<Figure size 432x288 with 2 Axes>"
            ]
          },
          "metadata": {
            "tags": [],
            "needs_background": "light"
          }
        }
      ]
    },
    {
      "cell_type": "code",
      "metadata": {
        "id": "JeHop82p_1Vv",
        "colab_type": "code",
        "colab": {}
      },
      "source": [
        "X_train_final= X_train.drop('Embarked_S',axis=1) #dropping the highly correlated dummy variable"
      ],
      "execution_count": 0,
      "outputs": []
    },
    {
      "cell_type": "code",
      "metadata": {
        "id": "7U0EaDLl_1Vy",
        "colab_type": "code",
        "outputId": "fed6f8fc-a531-4267-daee-a20832c98089",
        "colab": {}
      },
      "source": [
        "sns.heatmap(X_train_final.corr(),annot=True)\n",
        "plt.show()"
      ],
      "execution_count": 0,
      "outputs": [
        {
          "output_type": "display_data",
          "data": {
            "image/png": "[encoded data removed]",
            "text/plain": [
              "<Figure size 432x288 with 2 Axes>"
            ]
          },
          "metadata": {
            "tags": [],
            "needs_background": "light"
          }
        }
      ]
    },
    {
      "cell_type": "markdown",
      "metadata": {
        "id": "HrTtAFEe_1V3",
        "colab_type": "text"
      },
      "source": [
        "### Model Building"
      ]
    },
    {
      "cell_type": "code",
      "metadata": {
        "id": "wtu7LVk0_1V4",
        "colab_type": "code",
        "colab": {}
      },
      "source": [
        "import statsmodels.api as sm"
      ],
      "execution_count": 0,
      "outputs": []
    },
    {
      "cell_type": "code",
      "metadata": {
        "id": "Q-R9Va77_1V7",
        "colab_type": "code",
        "outputId": "af749b93-9539-490f-d972-5dc2fb2455d7",
        "colab": {}
      },
      "source": [
        "l1=sm.GLM(y_train,sm.add_constant(X_train_final),family = sm.families.Binomial())\n",
        "l1.fit().summary()"
      ],
      "execution_count": 0,
      "outputs": [
        {
          "output_type": "execute_result",
          "data": {
            "text/html": [
              "<table class=\"simpletable\">\n",
              "<caption>Generalized Linear Model Regression Results</caption>\n",
              "<tr>\n",
              "  <th>Dep. Variable:</th>      <td>Survived</td>     <th>  No. Observations:  </th>  <td>   659</td>  \n",
              "</tr>\n",
              "<tr>\n",
              "  <th>Model:</th>                 <td>GLM</td>       <th>  Df Residuals:      </th>  <td>   652</td>  \n",
              "</tr>\n",
              "<tr>\n",
              "  <th>Model Family:</th>       <td>Binomial</td>     <th>  Df Model:          </th>  <td>     6</td>  \n",
              "</tr>\n",
              "<tr>\n",
              "  <th>Link Function:</th>        <td>logit</td>      <th>  Scale:             </th> <td>  1.0000</td> \n",
              "</tr>\n",
              "<tr>\n",
              "  <th>Method:</th>               <td>IRLS</td>       <th>  Log-Likelihood:    </th> <td> -283.36</td> \n",
              "</tr>\n",
              "<tr>\n",
              "  <th>Date:</th>           <td>Wed, 04 Sep 2019</td> <th>  Deviance:          </th> <td>  566.72</td> \n",
              "</tr>\n",
              "<tr>\n",
              "  <th>Time:</th>               <td>08:54:23</td>     <th>  Pearson chi2:      </th>  <td>  675.</td>  \n",
              "</tr>\n",
              "<tr>\n",
              "  <th>No. Iterations:</th>         <td>5</td>        <th>  Covariance Type:   </th> <td>nonrobust</td>\n",
              "</tr>\n",
              "</table>\n",
              "<table class=\"simpletable\">\n",
              "<tr>\n",
              "       <td></td>         <th>coef</th>     <th>std err</th>      <th>z</th>      <th>P>|z|</th>  <th>[0.025</th>    <th>0.975]</th>  \n",
              "</tr>\n",
              "<tr>\n",
              "  <th>const</th>      <td>   -0.7551</td> <td>    0.109</td> <td>   -6.941</td> <td> 0.000</td> <td>   -0.968</td> <td>   -0.542</td>\n",
              "</tr>\n",
              "<tr>\n",
              "  <th>Pclass</th>     <td>   -0.7529</td> <td>    0.163</td> <td>   -4.631</td> <td> 0.000</td> <td>   -1.072</td> <td>   -0.434</td>\n",
              "</tr>\n",
              "<tr>\n",
              "  <th>Age</th>        <td>   -0.1149</td> <td>    0.113</td> <td>   -1.017</td> <td> 0.309</td> <td>   -0.336</td> <td>    0.106</td>\n",
              "</tr>\n",
              "<tr>\n",
              "  <th>SibSp</th>      <td>   -0.2070</td> <td>    0.122</td> <td>   -1.698</td> <td> 0.090</td> <td>   -0.446</td> <td>    0.032</td>\n",
              "</tr>\n",
              "<tr>\n",
              "  <th>Fare</th>       <td>    0.2578</td> <td>    0.175</td> <td>    1.476</td> <td> 0.140</td> <td>   -0.085</td> <td>    0.600</td>\n",
              "</tr>\n",
              "<tr>\n",
              "  <th>Embarked_Q</th> <td>    0.1607</td> <td>    0.106</td> <td>    1.521</td> <td> 0.128</td> <td>   -0.046</td> <td>    0.368</td>\n",
              "</tr>\n",
              "<tr>\n",
              "  <th>Sex_male</th>   <td>   -1.3433</td> <td>    0.109</td> <td>  -12.302</td> <td> 0.000</td> <td>   -1.557</td> <td>   -1.129</td>\n",
              "</tr>\n",
              "</table>"
            ],
            "text/plain": [
              "<class 'statsmodels.iolib.summary.Summary'>\n",
              "\"\"\"\n",
              "                 Generalized Linear Model Regression Results                  \n",
              "==============================================================================\n",
              "Dep. Variable:               Survived   No. Observations:                  659\n",
              "Model:                            GLM   Df Residuals:                      652\n",
              "Model Family:                Binomial   Df Model:                            6\n",
              "Link Function:                  logit   Scale:                          1.0000\n",
              "Method:                          IRLS   Log-Likelihood:                -283.36\n",
              "Date:                Wed, 04 Sep 2019   Deviance:                       566.72\n",
              "Time:                        08:54:23   Pearson chi2:                     675.\n",
              "No. Iterations:                     5   Covariance Type:             nonrobust\n",
              "==============================================================================\n",
              "                 coef    std err          z      P>|z|      [0.025      0.975]\n",
              "------------------------------------------------------------------------------\n",
              "const         -0.7551      0.109     -6.941      0.000      -0.968      -0.542\n",
              "Pclass        -0.7529      0.163     -4.631      0.000      -1.072      -0.434\n",
              "Age           -0.1149      0.113     -1.017      0.309      -0.336       0.106\n",
              "SibSp         -0.2070      0.122     -1.698      0.090      -0.446       0.032\n",
              "Fare           0.2578      0.175      1.476      0.140      -0.085       0.600\n",
              "Embarked_Q     0.1607      0.106      1.521      0.128      -0.046       0.368\n",
              "Sex_male      -1.3433      0.109    -12.302      0.000      -1.557      -1.129\n",
              "==============================================================================\n",
              "\"\"\""
            ]
          },
          "metadata": {
            "tags": []
          },
          "execution_count": 304
        }
      ]
    },
    {
      "cell_type": "code",
      "metadata": {
        "id": "HekSng8C_1WB",
        "colab_type": "code",
        "colab": {}
      },
      "source": [
        "X_train_final = X_train_final.drop('Age',axis=1) #dropping statistically insignificant variable"
      ],
      "execution_count": 0,
      "outputs": []
    },
    {
      "cell_type": "code",
      "metadata": {
        "id": "09ocyUNj_1WE",
        "colab_type": "code",
        "outputId": "3b76b9a5-3821-4591-e1cb-01f8f06fe368",
        "colab": {}
      },
      "source": [
        "l2=sm.GLM(y_train,sm.add_constant(X_train_final),family = sm.families.Binomial())\n",
        "l2.fit().summary()"
      ],
      "execution_count": 0,
      "outputs": [
        {
          "output_type": "execute_result",
          "data": {
            "text/html": [
              "<table class=\"simpletable\">\n",
              "<caption>Generalized Linear Model Regression Results</caption>\n",
              "<tr>\n",
              "  <th>Dep. Variable:</th>      <td>Survived</td>     <th>  No. Observations:  </th>  <td>   659</td>  \n",
              "</tr>\n",
              "<tr>\n",
              "  <th>Model:</th>                 <td>GLM</td>       <th>  Df Residuals:      </th>  <td>   653</td>  \n",
              "</tr>\n",
              "<tr>\n",
              "  <th>Model Family:</th>       <td>Binomial</td>     <th>  Df Model:          </th>  <td>     5</td>  \n",
              "</tr>\n",
              "<tr>\n",
              "  <th>Link Function:</th>        <td>logit</td>      <th>  Scale:             </th> <td>  1.0000</td> \n",
              "</tr>\n",
              "<tr>\n",
              "  <th>Method:</th>               <td>IRLS</td>       <th>  Log-Likelihood:    </th> <td> -283.88</td> \n",
              "</tr>\n",
              "<tr>\n",
              "  <th>Date:</th>           <td>Wed, 04 Sep 2019</td> <th>  Deviance:          </th> <td>  567.76</td> \n",
              "</tr>\n",
              "<tr>\n",
              "  <th>Time:</th>               <td>08:54:23</td>     <th>  Pearson chi2:      </th>  <td>  677.</td>  \n",
              "</tr>\n",
              "<tr>\n",
              "  <th>No. Iterations:</th>         <td>5</td>        <th>  Covariance Type:   </th> <td>nonrobust</td>\n",
              "</tr>\n",
              "</table>\n",
              "<table class=\"simpletable\">\n",
              "<tr>\n",
              "       <td></td>         <th>coef</th>     <th>std err</th>      <th>z</th>      <th>P>|z|</th>  <th>[0.025</th>    <th>0.975]</th>  \n",
              "</tr>\n",
              "<tr>\n",
              "  <th>const</th>      <td>   -0.7557</td> <td>    0.109</td> <td>   -6.953</td> <td> 0.000</td> <td>   -0.969</td> <td>   -0.543</td>\n",
              "</tr>\n",
              "<tr>\n",
              "  <th>Pclass</th>     <td>   -0.7099</td> <td>    0.157</td> <td>   -4.530</td> <td> 0.000</td> <td>   -1.017</td> <td>   -0.403</td>\n",
              "</tr>\n",
              "<tr>\n",
              "  <th>SibSp</th>      <td>   -0.2125</td> <td>    0.122</td> <td>   -1.743</td> <td> 0.081</td> <td>   -0.451</td> <td>    0.026</td>\n",
              "</tr>\n",
              "<tr>\n",
              "  <th>Fare</th>       <td>    0.2583</td> <td>    0.174</td> <td>    1.482</td> <td> 0.138</td> <td>   -0.083</td> <td>    0.600</td>\n",
              "</tr>\n",
              "<tr>\n",
              "  <th>Embarked_Q</th> <td>    0.1547</td> <td>    0.105</td> <td>    1.470</td> <td> 0.142</td> <td>   -0.052</td> <td>    0.361</td>\n",
              "</tr>\n",
              "<tr>\n",
              "  <th>Sex_male</th>   <td>   -1.3486</td> <td>    0.109</td> <td>  -12.366</td> <td> 0.000</td> <td>   -1.562</td> <td>   -1.135</td>\n",
              "</tr>\n",
              "</table>"
            ],
            "text/plain": [
              "<class 'statsmodels.iolib.summary.Summary'>\n",
              "\"\"\"\n",
              "                 Generalized Linear Model Regression Results                  \n",
              "==============================================================================\n",
              "Dep. Variable:               Survived   No. Observations:                  659\n",
              "Model:                            GLM   Df Residuals:                      653\n",
              "Model Family:                Binomial   Df Model:                            5\n",
              "Link Function:                  logit   Scale:                          1.0000\n",
              "Method:                          IRLS   Log-Likelihood:                -283.88\n",
              "Date:                Wed, 04 Sep 2019   Deviance:                       567.76\n",
              "Time:                        08:54:23   Pearson chi2:                     677.\n",
              "No. Iterations:                     5   Covariance Type:             nonrobust\n",
              "==============================================================================\n",
              "                 coef    std err          z      P>|z|      [0.025      0.975]\n",
              "------------------------------------------------------------------------------\n",
              "const         -0.7557      0.109     -6.953      0.000      -0.969      -0.543\n",
              "Pclass        -0.7099      0.157     -4.530      0.000      -1.017      -0.403\n",
              "SibSp         -0.2125      0.122     -1.743      0.081      -0.451       0.026\n",
              "Fare           0.2583      0.174      1.482      0.138      -0.083       0.600\n",
              "Embarked_Q     0.1547      0.105      1.470      0.142      -0.052       0.361\n",
              "Sex_male      -1.3486      0.109    -12.366      0.000      -1.562      -1.135\n",
              "==============================================================================\n",
              "\"\"\""
            ]
          },
          "metadata": {
            "tags": []
          },
          "execution_count": 306
        }
      ]
    },
    {
      "cell_type": "code",
      "metadata": {
        "id": "R_MF8Ch8_1WH",
        "colab_type": "code",
        "colab": {}
      },
      "source": [
        "X_train_final = X_train_final.drop('Embarked_Q',axis=1) #dropping statistically insignificant variable"
      ],
      "execution_count": 0,
      "outputs": []
    },
    {
      "cell_type": "code",
      "metadata": {
        "id": "_T_Ywjh__1WK",
        "colab_type": "code",
        "outputId": "2d3dc066-76a5-45e6-fcb9-a7077b926c95",
        "colab": {}
      },
      "source": [
        "l3=sm.GLM(y_train,sm.add_constant(X_train_final),family = sm.families.Binomial())\n",
        "l3.fit().summary()"
      ],
      "execution_count": 0,
      "outputs": [
        {
          "output_type": "execute_result",
          "data": {
            "text/html": [
              "<table class=\"simpletable\">\n",
              "<caption>Generalized Linear Model Regression Results</caption>\n",
              "<tr>\n",
              "  <th>Dep. Variable:</th>      <td>Survived</td>     <th>  No. Observations:  </th>  <td>   659</td>  \n",
              "</tr>\n",
              "<tr>\n",
              "  <th>Model:</th>                 <td>GLM</td>       <th>  Df Residuals:      </th>  <td>   654</td>  \n",
              "</tr>\n",
              "<tr>\n",
              "  <th>Model Family:</th>       <td>Binomial</td>     <th>  Df Model:          </th>  <td>     4</td>  \n",
              "</tr>\n",
              "<tr>\n",
              "  <th>Link Function:</th>        <td>logit</td>      <th>  Scale:             </th> <td>  1.0000</td> \n",
              "</tr>\n",
              "<tr>\n",
              "  <th>Method:</th>               <td>IRLS</td>       <th>  Log-Likelihood:    </th> <td> -284.96</td> \n",
              "</tr>\n",
              "<tr>\n",
              "  <th>Date:</th>           <td>Wed, 04 Sep 2019</td> <th>  Deviance:          </th> <td>  569.91</td> \n",
              "</tr>\n",
              "<tr>\n",
              "  <th>Time:</th>               <td>08:54:23</td>     <th>  Pearson chi2:      </th>  <td>  670.</td>  \n",
              "</tr>\n",
              "<tr>\n",
              "  <th>No. Iterations:</th>         <td>5</td>        <th>  Covariance Type:   </th> <td>nonrobust</td>\n",
              "</tr>\n",
              "</table>\n",
              "<table class=\"simpletable\">\n",
              "<tr>\n",
              "      <td></td>        <th>coef</th>     <th>std err</th>      <th>z</th>      <th>P>|z|</th>  <th>[0.025</th>    <th>0.975]</th>  \n",
              "</tr>\n",
              "<tr>\n",
              "  <th>const</th>    <td>   -0.7461</td> <td>    0.108</td> <td>   -6.911</td> <td> 0.000</td> <td>   -0.958</td> <td>   -0.534</td>\n",
              "</tr>\n",
              "<tr>\n",
              "  <th>Pclass</th>   <td>   -0.6660</td> <td>    0.153</td> <td>   -4.350</td> <td> 0.000</td> <td>   -0.966</td> <td>   -0.366</td>\n",
              "</tr>\n",
              "<tr>\n",
              "  <th>SibSp</th>    <td>   -0.2190</td> <td>    0.122</td> <td>   -1.795</td> <td> 0.073</td> <td>   -0.458</td> <td>    0.020</td>\n",
              "</tr>\n",
              "<tr>\n",
              "  <th>Fare</th>     <td>    0.2678</td> <td>    0.174</td> <td>    1.540</td> <td> 0.123</td> <td>   -0.073</td> <td>    0.609</td>\n",
              "</tr>\n",
              "<tr>\n",
              "  <th>Sex_male</th> <td>   -1.3734</td> <td>    0.108</td> <td>  -12.669</td> <td> 0.000</td> <td>   -1.586</td> <td>   -1.161</td>\n",
              "</tr>\n",
              "</table>"
            ],
            "text/plain": [
              "<class 'statsmodels.iolib.summary.Summary'>\n",
              "\"\"\"\n",
              "                 Generalized Linear Model Regression Results                  \n",
              "==============================================================================\n",
              "Dep. Variable:               Survived   No. Observations:                  659\n",
              "Model:                            GLM   Df Residuals:                      654\n",
              "Model Family:                Binomial   Df Model:                            4\n",
              "Link Function:                  logit   Scale:                          1.0000\n",
              "Method:                          IRLS   Log-Likelihood:                -284.96\n",
              "Date:                Wed, 04 Sep 2019   Deviance:                       569.91\n",
              "Time:                        08:54:23   Pearson chi2:                     670.\n",
              "No. Iterations:                     5   Covariance Type:             nonrobust\n",
              "==============================================================================\n",
              "                 coef    std err          z      P>|z|      [0.025      0.975]\n",
              "------------------------------------------------------------------------------\n",
              "const         -0.7461      0.108     -6.911      0.000      -0.958      -0.534\n",
              "Pclass        -0.6660      0.153     -4.350      0.000      -0.966      -0.366\n",
              "SibSp         -0.2190      0.122     -1.795      0.073      -0.458       0.020\n",
              "Fare           0.2678      0.174      1.540      0.123      -0.073       0.609\n",
              "Sex_male      -1.3734      0.108    -12.669      0.000      -1.586      -1.161\n",
              "==============================================================================\n",
              "\"\"\""
            ]
          },
          "metadata": {
            "tags": []
          },
          "execution_count": 308
        }
      ]
    },
    {
      "cell_type": "code",
      "metadata": {
        "id": "6w7qStfE_1WM",
        "colab_type": "code",
        "colab": {}
      },
      "source": [
        "X_train_final = X_train_final.drop('SibSp',axis=1) #dropping statistically insignificant variable"
      ],
      "execution_count": 0,
      "outputs": []
    },
    {
      "cell_type": "code",
      "metadata": {
        "id": "g2aNOaox_1WO",
        "colab_type": "code",
        "outputId": "b6566723-c601-45b0-fb59-a525511f3b90",
        "colab": {}
      },
      "source": [
        "l4=sm.GLM(y_train,sm.add_constant(X_train_final),family = sm.families.Binomial())\n",
        "res=l4.fit()\n",
        "res.summary()"
      ],
      "execution_count": 0,
      "outputs": [
        {
          "output_type": "execute_result",
          "data": {
            "text/html": [
              "<table class=\"simpletable\">\n",
              "<caption>Generalized Linear Model Regression Results</caption>\n",
              "<tr>\n",
              "  <th>Dep. Variable:</th>      <td>Survived</td>     <th>  No. Observations:  </th>  <td>   659</td>  \n",
              "</tr>\n",
              "<tr>\n",
              "  <th>Model:</th>                 <td>GLM</td>       <th>  Df Residuals:      </th>  <td>   655</td>  \n",
              "</tr>\n",
              "<tr>\n",
              "  <th>Model Family:</th>       <td>Binomial</td>     <th>  Df Model:          </th>  <td>     3</td>  \n",
              "</tr>\n",
              "<tr>\n",
              "  <th>Link Function:</th>        <td>logit</td>      <th>  Scale:             </th> <td>  1.0000</td> \n",
              "</tr>\n",
              "<tr>\n",
              "  <th>Method:</th>               <td>IRLS</td>       <th>  Log-Likelihood:    </th> <td> -286.62</td> \n",
              "</tr>\n",
              "<tr>\n",
              "  <th>Date:</th>           <td>Wed, 04 Sep 2019</td> <th>  Deviance:          </th> <td>  573.23</td> \n",
              "</tr>\n",
              "<tr>\n",
              "  <th>Time:</th>               <td>08:54:23</td>     <th>  Pearson chi2:      </th>  <td>  669.</td>  \n",
              "</tr>\n",
              "<tr>\n",
              "  <th>No. Iterations:</th>         <td>5</td>        <th>  Covariance Type:   </th> <td>nonrobust</td>\n",
              "</tr>\n",
              "</table>\n",
              "<table class=\"simpletable\">\n",
              "<tr>\n",
              "      <td></td>        <th>coef</th>     <th>std err</th>      <th>z</th>      <th>P>|z|</th>  <th>[0.025</th>    <th>0.975]</th>  \n",
              "</tr>\n",
              "<tr>\n",
              "  <th>const</th>    <td>   -0.7518</td> <td>    0.108</td> <td>   -6.972</td> <td> 0.000</td> <td>   -0.963</td> <td>   -0.540</td>\n",
              "</tr>\n",
              "<tr>\n",
              "  <th>Pclass</th>   <td>   -0.7351</td> <td>    0.150</td> <td>   -4.894</td> <td> 0.000</td> <td>   -1.030</td> <td>   -0.441</td>\n",
              "</tr>\n",
              "<tr>\n",
              "  <th>Fare</th>     <td>    0.1231</td> <td>    0.154</td> <td>    0.799</td> <td> 0.424</td> <td>   -0.179</td> <td>    0.425</td>\n",
              "</tr>\n",
              "<tr>\n",
              "  <th>Sex_male</th> <td>   -1.3420</td> <td>    0.106</td> <td>  -12.703</td> <td> 0.000</td> <td>   -1.549</td> <td>   -1.135</td>\n",
              "</tr>\n",
              "</table>"
            ],
            "text/plain": [
              "<class 'statsmodels.iolib.summary.Summary'>\n",
              "\"\"\"\n",
              "                 Generalized Linear Model Regression Results                  \n",
              "==============================================================================\n",
              "Dep. Variable:               Survived   No. Observations:                  659\n",
              "Model:                            GLM   Df Residuals:                      655\n",
              "Model Family:                Binomial   Df Model:                            3\n",
              "Link Function:                  logit   Scale:                          1.0000\n",
              "Method:                          IRLS   Log-Likelihood:                -286.62\n",
              "Date:                Wed, 04 Sep 2019   Deviance:                       573.23\n",
              "Time:                        08:54:23   Pearson chi2:                     669.\n",
              "No. Iterations:                     5   Covariance Type:             nonrobust\n",
              "==============================================================================\n",
              "                 coef    std err          z      P>|z|      [0.025      0.975]\n",
              "------------------------------------------------------------------------------\n",
              "const         -0.7518      0.108     -6.972      0.000      -0.963      -0.540\n",
              "Pclass        -0.7351      0.150     -4.894      0.000      -1.030      -0.441\n",
              "Fare           0.1231      0.154      0.799      0.424      -0.179       0.425\n",
              "Sex_male      -1.3420      0.106    -12.703      0.000      -1.549      -1.135\n",
              "==============================================================================\n",
              "\"\"\""
            ]
          },
          "metadata": {
            "tags": []
          },
          "execution_count": 310
        }
      ]
    },
    {
      "cell_type": "code",
      "metadata": {
        "id": "dWt3Sjuh_1WQ",
        "colab_type": "code",
        "colab": {}
      },
      "source": [
        "X_train_final = X_train_final.drop('Fare',axis=1) #dropping statistically insignificant variable"
      ],
      "execution_count": 0,
      "outputs": []
    },
    {
      "cell_type": "code",
      "metadata": {
        "id": "SaUDAk2N_1WS",
        "colab_type": "code",
        "outputId": "cb6ecbf9-24c8-41d7-b23e-e9d2b47bf300",
        "colab": {}
      },
      "source": [
        "l5=sm.GLM(y_train,sm.add_constant(X_train_final),family = sm.families.Binomial())\n",
        "res=l5.fit()\n",
        "res.summary()"
      ],
      "execution_count": 0,
      "outputs": [
        {
          "output_type": "execute_result",
          "data": {
            "text/html": [
              "<table class=\"simpletable\">\n",
              "<caption>Generalized Linear Model Regression Results</caption>\n",
              "<tr>\n",
              "  <th>Dep. Variable:</th>      <td>Survived</td>     <th>  No. Observations:  </th>  <td>   659</td>  \n",
              "</tr>\n",
              "<tr>\n",
              "  <th>Model:</th>                 <td>GLM</td>       <th>  Df Residuals:      </th>  <td>   656</td>  \n",
              "</tr>\n",
              "<tr>\n",
              "  <th>Model Family:</th>       <td>Binomial</td>     <th>  Df Model:          </th>  <td>     2</td>  \n",
              "</tr>\n",
              "<tr>\n",
              "  <th>Link Function:</th>        <td>logit</td>      <th>  Scale:             </th> <td>  1.0000</td> \n",
              "</tr>\n",
              "<tr>\n",
              "  <th>Method:</th>               <td>IRLS</td>       <th>  Log-Likelihood:    </th> <td> -286.94</td> \n",
              "</tr>\n",
              "<tr>\n",
              "  <th>Date:</th>           <td>Wed, 04 Sep 2019</td> <th>  Deviance:          </th> <td>  573.87</td> \n",
              "</tr>\n",
              "<tr>\n",
              "  <th>Time:</th>               <td>08:54:24</td>     <th>  Pearson chi2:      </th>  <td>  682.</td>  \n",
              "</tr>\n",
              "<tr>\n",
              "  <th>No. Iterations:</th>         <td>5</td>        <th>  Covariance Type:   </th> <td>nonrobust</td>\n",
              "</tr>\n",
              "</table>\n",
              "<table class=\"simpletable\">\n",
              "<tr>\n",
              "      <td></td>        <th>coef</th>     <th>std err</th>      <th>z</th>      <th>P>|z|</th>  <th>[0.025</th>    <th>0.975]</th>  \n",
              "</tr>\n",
              "<tr>\n",
              "  <th>const</th>    <td>   -0.7584</td> <td>    0.108</td> <td>   -7.045</td> <td> 0.000</td> <td>   -0.969</td> <td>   -0.547</td>\n",
              "</tr>\n",
              "<tr>\n",
              "  <th>Pclass</th>   <td>   -0.8209</td> <td>    0.106</td> <td>   -7.764</td> <td> 0.000</td> <td>   -1.028</td> <td>   -0.614</td>\n",
              "</tr>\n",
              "<tr>\n",
              "  <th>Sex_male</th> <td>   -1.3485</td> <td>    0.105</td> <td>  -12.799</td> <td> 0.000</td> <td>   -1.555</td> <td>   -1.142</td>\n",
              "</tr>\n",
              "</table>"
            ],
            "text/plain": [
              "<class 'statsmodels.iolib.summary.Summary'>\n",
              "\"\"\"\n",
              "                 Generalized Linear Model Regression Results                  \n",
              "==============================================================================\n",
              "Dep. Variable:               Survived   No. Observations:                  659\n",
              "Model:                            GLM   Df Residuals:                      656\n",
              "Model Family:                Binomial   Df Model:                            2\n",
              "Link Function:                  logit   Scale:                          1.0000\n",
              "Method:                          IRLS   Log-Likelihood:                -286.94\n",
              "Date:                Wed, 04 Sep 2019   Deviance:                       573.87\n",
              "Time:                        08:54:24   Pearson chi2:                     682.\n",
              "No. Iterations:                     5   Covariance Type:             nonrobust\n",
              "==============================================================================\n",
              "                 coef    std err          z      P>|z|      [0.025      0.975]\n",
              "------------------------------------------------------------------------------\n",
              "const         -0.7584      0.108     -7.045      0.000      -0.969      -0.547\n",
              "Pclass        -0.8209      0.106     -7.764      0.000      -1.028      -0.614\n",
              "Sex_male      -1.3485      0.105    -12.799      0.000      -1.555      -1.142\n",
              "==============================================================================\n",
              "\"\"\""
            ]
          },
          "metadata": {
            "tags": []
          },
          "execution_count": 312
        }
      ]
    },
    {
      "cell_type": "code",
      "metadata": {
        "id": "DGjMO2mI_1WU",
        "colab_type": "code",
        "colab": {}
      },
      "source": [
        "# Check for the VIF values of the feature variables. \n",
        "from statsmodels.stats.outliers_influence import variance_inflation_factor"
      ],
      "execution_count": 0,
      "outputs": []
    },
    {
      "cell_type": "code",
      "metadata": {
        "id": "5aUy_nZq_1WY",
        "colab_type": "code",
        "outputId": "751cde08-543e-4e7a-8f95-4f67694ecf67",
        "colab": {}
      },
      "source": [
        "# Create a dataframe that will contain the names of all the feature variables that w used before and their respective VIFs\n",
        "vif = pd.DataFrame()\n",
        "vif['Features'] = X_train_final.columns\n",
        "vif['VIF'] = [variance_inflation_factor(X_train_final.values, i) for i in range(X_train_final.shape[1])]\n",
        "vif['VIF'] = round(vif['VIF'], 2)\n",
        "vif = vif.sort_values(by = \"VIF\", ascending = False)\n",
        "vif"
      ],
      "execution_count": 0,
      "outputs": [
        {
          "output_type": "execute_result",
          "data": {
            "text/html": [
              "<div>\n",
              "<style scoped>\n",
              "    .dataframe tbody tr th:only-of-type {\n",
              "        vertical-align: middle;\n",
              "    }\n",
              "\n",
              "    .dataframe tbody tr th {\n",
              "        vertical-align: top;\n",
              "    }\n",
              "\n",
              "    .dataframe thead th {\n",
              "        text-align: right;\n",
              "    }\n",
              "</style>\n",
              "<table border=\"1\" class=\"dataframe\">\n",
              "  <thead>\n",
              "    <tr style=\"text-align: right;\">\n",
              "      <th></th>\n",
              "      <th>Features</th>\n",
              "      <th>VIF</th>\n",
              "    </tr>\n",
              "  </thead>\n",
              "  <tbody>\n",
              "    <tr>\n",
              "      <th>0</th>\n",
              "      <td>Pclass</td>\n",
              "      <td>1.03</td>\n",
              "    </tr>\n",
              "    <tr>\n",
              "      <th>1</th>\n",
              "      <td>Sex_male</td>\n",
              "      <td>1.03</td>\n",
              "    </tr>\n",
              "  </tbody>\n",
              "</table>\n",
              "</div>"
            ],
            "text/plain": [
              "   Features   VIF\n",
              "0    Pclass  1.03\n",
              "1  Sex_male  1.03"
            ]
          },
          "metadata": {
            "tags": []
          },
          "execution_count": 314
        }
      ]
    },
    {
      "cell_type": "code",
      "metadata": {
        "id": "8-tdyO2r_1Wa",
        "colab_type": "code",
        "outputId": "48db85bf-0340-4bd8-a3be-b2747fcd7d3e",
        "colab": {}
      },
      "source": [
        "X_train_pred = sm.add_constant(X_train_final)\n",
        "y_pred = res.predict(X_train_pred) # predictions of survival\n",
        "y_pred.head()"
      ],
      "execution_count": 0,
      "outputs": [
        {
          "output_type": "execute_result",
          "data": {
            "text/plain": [
              "0    0.087779\n",
              "1    0.930110\n",
              "2    0.633135\n",
              "3    0.930110\n",
              "4    0.087779\n",
              "dtype: float64"
            ]
          },
          "metadata": {
            "tags": []
          },
          "execution_count": 315
        }
      ]
    },
    {
      "cell_type": "code",
      "metadata": {
        "id": "LxMHNyPM_1Wc",
        "colab_type": "code",
        "outputId": "3676c86f-1ccf-4510-bcd3-e8843ec88813",
        "colab": {}
      },
      "source": [
        "survival_df = pd.DataFrame({'Survived_actual':y_train.values})\n",
        "survival_df['passenger_index'] = y_train.index\n",
        "survival_df.head()"
      ],
      "execution_count": 0,
      "outputs": [
        {
          "output_type": "execute_result",
          "data": {
            "text/html": [
              "<div>\n",
              "<style scoped>\n",
              "    .dataframe tbody tr th:only-of-type {\n",
              "        vertical-align: middle;\n",
              "    }\n",
              "\n",
              "    .dataframe tbody tr th {\n",
              "        vertical-align: top;\n",
              "    }\n",
              "\n",
              "    .dataframe thead th {\n",
              "        text-align: right;\n",
              "    }\n",
              "</style>\n",
              "<table border=\"1\" class=\"dataframe\">\n",
              "  <thead>\n",
              "    <tr style=\"text-align: right;\">\n",
              "      <th></th>\n",
              "      <th>Survived_actual</th>\n",
              "      <th>passenger_index</th>\n",
              "    </tr>\n",
              "  </thead>\n",
              "  <tbody>\n",
              "    <tr>\n",
              "      <th>0</th>\n",
              "      <td>0</td>\n",
              "      <td>0</td>\n",
              "    </tr>\n",
              "    <tr>\n",
              "      <th>1</th>\n",
              "      <td>1</td>\n",
              "      <td>1</td>\n",
              "    </tr>\n",
              "    <tr>\n",
              "      <th>2</th>\n",
              "      <td>1</td>\n",
              "      <td>2</td>\n",
              "    </tr>\n",
              "    <tr>\n",
              "      <th>3</th>\n",
              "      <td>1</td>\n",
              "      <td>3</td>\n",
              "    </tr>\n",
              "    <tr>\n",
              "      <th>4</th>\n",
              "      <td>0</td>\n",
              "      <td>4</td>\n",
              "    </tr>\n",
              "  </tbody>\n",
              "</table>\n",
              "</div>"
            ],
            "text/plain": [
              "   Survived_actual  passenger_index\n",
              "0                0                0\n",
              "1                1                1\n",
              "2                1                2\n",
              "3                1                3\n",
              "4                0                4"
            ]
          },
          "metadata": {
            "tags": []
          },
          "execution_count": 316
        }
      ]
    },
    {
      "cell_type": "code",
      "metadata": {
        "id": "SOpChXaT_1We",
        "colab_type": "code",
        "colab": {}
      },
      "source": [
        "survival_df['Survived_prob']=np.array(y_pred)"
      ],
      "execution_count": 0,
      "outputs": []
    },
    {
      "cell_type": "code",
      "metadata": {
        "id": "O2Qd3Ts7_1Wg",
        "colab_type": "code",
        "outputId": "b5d385c4-c37e-4e41-da87-e9930bd9686e",
        "colab": {}
      },
      "source": [
        "survival_df['Survived_predicted']=survival_df['Survived_prob'].map(lambda x:1 if x>0.5 else 0)\n",
        "survival_df.head()"
      ],
      "execution_count": 0,
      "outputs": [
        {
          "output_type": "execute_result",
          "data": {
            "text/html": [
              "<div>\n",
              "<style scoped>\n",
              "    .dataframe tbody tr th:only-of-type {\n",
              "        vertical-align: middle;\n",
              "    }\n",
              "\n",
              "    .dataframe tbody tr th {\n",
              "        vertical-align: top;\n",
              "    }\n",
              "\n",
              "    .dataframe thead th {\n",
              "        text-align: right;\n",
              "    }\n",
              "</style>\n",
              "<table border=\"1\" class=\"dataframe\">\n",
              "  <thead>\n",
              "    <tr style=\"text-align: right;\">\n",
              "      <th></th>\n",
              "      <th>Survived_actual</th>\n",
              "      <th>passenger_index</th>\n",
              "      <th>Survived_prob</th>\n",
              "      <th>Survived_predicted</th>\n",
              "    </tr>\n",
              "  </thead>\n",
              "  <tbody>\n",
              "    <tr>\n",
              "      <th>0</th>\n",
              "      <td>0</td>\n",
              "      <td>0</td>\n",
              "      <td>0.087779</td>\n",
              "      <td>0</td>\n",
              "    </tr>\n",
              "    <tr>\n",
              "      <th>1</th>\n",
              "      <td>1</td>\n",
              "      <td>1</td>\n",
              "      <td>0.930110</td>\n",
              "      <td>1</td>\n",
              "    </tr>\n",
              "    <tr>\n",
              "      <th>2</th>\n",
              "      <td>1</td>\n",
              "      <td>2</td>\n",
              "      <td>0.633135</td>\n",
              "      <td>1</td>\n",
              "    </tr>\n",
              "    <tr>\n",
              "      <th>3</th>\n",
              "      <td>1</td>\n",
              "      <td>3</td>\n",
              "      <td>0.930110</td>\n",
              "      <td>1</td>\n",
              "    </tr>\n",
              "    <tr>\n",
              "      <th>4</th>\n",
              "      <td>0</td>\n",
              "      <td>4</td>\n",
              "      <td>0.087779</td>\n",
              "      <td>0</td>\n",
              "    </tr>\n",
              "  </tbody>\n",
              "</table>\n",
              "</div>"
            ],
            "text/plain": [
              "   Survived_actual  passenger_index  Survived_prob  Survived_predicted\n",
              "0                0                0       0.087779                   0\n",
              "1                1                1       0.930110                   1\n",
              "2                1                2       0.633135                   1\n",
              "3                1                3       0.930110                   1\n",
              "4                0                4       0.087779                   0"
            ]
          },
          "metadata": {
            "tags": []
          },
          "execution_count": 318
        }
      ]
    },
    {
      "cell_type": "code",
      "metadata": {
        "id": "2NvXr3SC_1Wi",
        "colab_type": "code",
        "outputId": "87420c4f-1ac1-4dd6-a079-2af7e3cbcff0",
        "colab": {}
      },
      "source": [
        "survival_df['Survived_actual'].value_counts() #number of actual survived and dead "
      ],
      "execution_count": 0,
      "outputs": [
        {
          "output_type": "execute_result",
          "data": {
            "text/plain": [
              "0    419\n",
              "1    240\n",
              "Name: Survived_actual, dtype: int64"
            ]
          },
          "metadata": {
            "tags": []
          },
          "execution_count": 319
        }
      ]
    },
    {
      "cell_type": "code",
      "metadata": {
        "id": "rU_pJH95_1Wl",
        "colab_type": "code",
        "outputId": "75621112-b3a5-4d57-d25f-adbc79119b88",
        "colab": {}
      },
      "source": [
        "survival_df['Survived_predicted'].value_counts() #number of predicted survived and dead"
      ],
      "execution_count": 0,
      "outputs": [
        {
          "output_type": "execute_result",
          "data": {
            "text/plain": [
              "0    447\n",
              "1    212\n",
              "Name: Survived_predicted, dtype: int64"
            ]
          },
          "metadata": {
            "tags": []
          },
          "execution_count": 320
        }
      ]
    },
    {
      "cell_type": "markdown",
      "metadata": {
        "id": "u_bfSKE2_1Wm",
        "colab_type": "text"
      },
      "source": [
        "#### Model metrics and score"
      ]
    },
    {
      "cell_type": "code",
      "metadata": {
        "id": "CTZR4UeV_1Wn",
        "colab_type": "code",
        "colab": {}
      },
      "source": [
        "from sklearn import metrics"
      ],
      "execution_count": 0,
      "outputs": []
    },
    {
      "cell_type": "code",
      "metadata": {
        "id": "gZaRo4fs_1Wp",
        "colab_type": "code",
        "outputId": "518208fb-de02-4f7c-e78a-a0872d58254c",
        "colab": {}
      },
      "source": [
        "print(metrics.accuracy_score(survival_df.Survived_actual, survival_df.Survived_predicted))"
      ],
      "execution_count": 0,
      "outputs": [
        {
          "output_type": "stream",
          "text": [
            "0.8088012139605463\n"
          ],
          "name": "stdout"
        }
      ]
    },
    {
      "cell_type": "markdown",
      "metadata": {
        "id": "_Z_WEvgc_1Ws",
        "colab_type": "text"
      },
      "source": [
        "Accuracy of Model - `84.3`"
      ]
    },
    {
      "cell_type": "markdown",
      "metadata": {
        "id": "_LKyqS6S_1Wt",
        "colab_type": "text"
      },
      "source": [
        "#### Analysis of ROC,Specificity,Sensitivity"
      ]
    },
    {
      "cell_type": "code",
      "metadata": {
        "id": "eis2GEFh_1Wu",
        "colab_type": "code",
        "outputId": "4c01364e-a636-4801-bf31-153c6a04969a",
        "colab": {}
      },
      "source": [
        "conf_matrix=metrics.confusion_matrix(survival_df.Survived_actual,survival_df.Survived_predicted)\n",
        "conf_matrix"
      ],
      "execution_count": 0,
      "outputs": [
        {
          "output_type": "execute_result",
          "data": {
            "text/plain": [
              "array([[370,  49],\n",
              "       [ 77, 163]])"
            ]
          },
          "metadata": {
            "tags": []
          },
          "execution_count": 323
        }
      ]
    },
    {
      "cell_type": "code",
      "metadata": {
        "id": "dpcbfAzY_1Ww",
        "colab_type": "code",
        "colab": {}
      },
      "source": [
        "#                     Actual Survived     Actual Dead\n",
        "\n",
        "#Predicted Survived       253               28\n",
        "\n",
        "#Predicted Dead            30               60"
      ],
      "execution_count": 0,
      "outputs": []
    },
    {
      "cell_type": "code",
      "metadata": {
        "id": "oTMh5VBK_1Wz",
        "colab_type": "code",
        "colab": {}
      },
      "source": [
        "TP=conf_matrix[0,0] #actual survived -- predicted survived\n",
        "TN=conf_matrix[1,1] #actual dead     -- predicted dead\n",
        "FP=conf_matrix[0,1] #actual dead     -- predicted survived\n",
        "FN=conf_matrix[1,0] #actual survived -- predicted dead"
      ],
      "execution_count": 0,
      "outputs": []
    },
    {
      "cell_type": "code",
      "metadata": {
        "id": "suekSruQ_1W2",
        "colab_type": "code",
        "outputId": "22c5e1d8-fdf9-4c55-83b4-66544d666e3a",
        "colab": {}
      },
      "source": [
        "#Sensitivity\n",
        "TP / float(TP+FN)"
      ],
      "execution_count": 0,
      "outputs": [
        {
          "output_type": "execute_result",
          "data": {
            "text/plain": [
              "0.8277404921700223"
            ]
          },
          "metadata": {
            "tags": []
          },
          "execution_count": 326
        }
      ]
    },
    {
      "cell_type": "code",
      "metadata": {
        "id": "i7rHmLmh_1W8",
        "colab_type": "code",
        "outputId": "240d08b4-c931-4dbe-9f9d-6553f9d82802",
        "colab": {}
      },
      "source": [
        "#Specificity\n",
        "TN/float(FP+TN)"
      ],
      "execution_count": 0,
      "outputs": [
        {
          "output_type": "execute_result",
          "data": {
            "text/plain": [
              "0.7688679245283019"
            ]
          },
          "metadata": {
            "tags": []
          },
          "execution_count": 327
        }
      ]
    },
    {
      "cell_type": "code",
      "metadata": {
        "id": "hsYaNKRC_1W_",
        "colab_type": "code",
        "outputId": "e1cac811-d60e-4032-86ce-713696b704af",
        "colab": {}
      },
      "source": [
        "#False Positive Rate\n",
        "FP / float(FP+TN)"
      ],
      "execution_count": 0,
      "outputs": [
        {
          "output_type": "execute_result",
          "data": {
            "text/plain": [
              "0.23113207547169812"
            ]
          },
          "metadata": {
            "tags": []
          },
          "execution_count": 328
        }
      ]
    },
    {
      "cell_type": "code",
      "metadata": {
        "id": "6KBkpCdB_1XD",
        "colab_type": "code",
        "outputId": "c36af435-305a-48df-92d9-63b5e804c167",
        "colab": {}
      },
      "source": [
        "#Positive Predictive Value\n",
        "TP / float(TP+FP)"
      ],
      "execution_count": 0,
      "outputs": [
        {
          "output_type": "execute_result",
          "data": {
            "text/plain": [
              "0.883054892601432"
            ]
          },
          "metadata": {
            "tags": []
          },
          "execution_count": 329
        }
      ]
    },
    {
      "cell_type": "code",
      "metadata": {
        "id": "WJqbPqkZ_1XG",
        "colab_type": "code",
        "outputId": "ae0e1166-c6ce-469a-dcb9-ec3505227b1f",
        "colab": {}
      },
      "source": [
        "#Negative Predictive Value\n",
        "TN / float(TN+FN)"
      ],
      "execution_count": 0,
      "outputs": [
        {
          "output_type": "execute_result",
          "data": {
            "text/plain": [
              "0.6791666666666667"
            ]
          },
          "metadata": {
            "tags": []
          },
          "execution_count": 330
        }
      ]
    },
    {
      "cell_type": "markdown",
      "metadata": {
        "id": "sONuQg3R_1XJ",
        "colab_type": "text"
      },
      "source": [
        "Sensitivity - `89%`\n",
        "Specificity - `68%`\n",
        "False Positive Rate - `31.8`\n",
        "Positive Predicted Value - `90.0`\n",
        "Negative Predicted Value - `66.6`"
      ]
    },
    {
      "cell_type": "markdown",
      "metadata": {
        "id": "Oyq-yDKb_1XM",
        "colab_type": "text"
      },
      "source": [
        "#### ROC Curve"
      ]
    },
    {
      "cell_type": "code",
      "metadata": {
        "id": "1ACUmlSo_1XN",
        "colab_type": "code",
        "colab": {}
      },
      "source": [
        "def draw_roc( actual, probs ):\n",
        "    fpr, tpr, thresholds = metrics.roc_curve( actual, probs,\n",
        "                                              drop_intermediate = False )\n",
        "    auc_score = metrics.roc_auc_score( actual, probs )\n",
        "    plt.figure(figsize=(5, 5))\n",
        "    plt.plot( fpr, tpr, label='ROC curve (area = %0.2f)' % auc_score )\n",
        "    plt.plot([0, 1], [0, 1], 'k--')\n",
        "    plt.xlim([0.0, 1.0])\n",
        "    plt.ylim([0.0, 1.05])\n",
        "    plt.xlabel('False Positive Rate or [1 - True Negative Rate]')\n",
        "    plt.ylabel('True Positive Rate')\n",
        "    plt.title('Receiver operating characteristic example')\n",
        "    plt.legend(loc=\"lower right\")\n",
        "    plt.show()\n",
        "\n",
        "    return None"
      ],
      "execution_count": 0,
      "outputs": []
    },
    {
      "cell_type": "code",
      "metadata": {
        "id": "PN1KR7I9_1XS",
        "colab_type": "code",
        "colab": {}
      },
      "source": [
        "fpr, tpr, thresholds = metrics.roc_curve(survival_df.Survived_actual, survival_df.Survived_predicted, drop_intermediate = False )"
      ],
      "execution_count": 0,
      "outputs": []
    },
    {
      "cell_type": "code",
      "metadata": {
        "id": "uUjd6oTj_1XV",
        "colab_type": "code",
        "outputId": "67826fad-0684-40eb-9959-407de58c3831",
        "colab": {}
      },
      "source": [
        "draw_roc(survival_df.Survived_actual, survival_df.Survived_predicted)"
      ],
      "execution_count": 0,
      "outputs": [
        {
          "output_type": "display_data",
          "data": {
            "image/png": "[encoded data removed]",
            "text/plain": [
              "<Figure size 360x360 with 1 Axes>"
            ]
          },
          "metadata": {
            "tags": [],
            "needs_background": "light"
          }
        }
      ]
    },
    {
      "cell_type": "markdown",
      "metadata": {
        "id": "ok7xVw2q_1XZ",
        "colab_type": "text"
      },
      "source": [
        "The area under the curve `AUC`is the measure of the goodness of the model.For this case, the area is `0.78`"
      ]
    },
    {
      "cell_type": "code",
      "metadata": {
        "id": "3CNDGeKf_1Xa",
        "colab_type": "code",
        "outputId": "b1224ba2-749a-4b91-abe8-b61b081f4e9d",
        "colab": {}
      },
      "source": [
        "numbers = [float(x)/10 for x in range(10)]\n",
        "for i in numbers:\n",
        "    survival_df[i]= survival_df.Survived_prob.map(lambda x: 1 if x > i else 0)\n",
        "survival_df.head(10)"
      ],
      "execution_count": 0,
      "outputs": [
        {
          "output_type": "execute_result",
          "data": {
            "text/html": [
              "<div>\n",
              "<style scoped>\n",
              "    .dataframe tbody tr th:only-of-type {\n",
              "        vertical-align: middle;\n",
              "    }\n",
              "\n",
              "    .dataframe tbody tr th {\n",
              "        vertical-align: top;\n",
              "    }\n",
              "\n",
              "    .dataframe thead th {\n",
              "        text-align: right;\n",
              "    }\n",
              "</style>\n",
              "<table border=\"1\" class=\"dataframe\">\n",
              "  <thead>\n",
              "    <tr style=\"text-align: right;\">\n",
              "      <th></th>\n",
              "      <th>Survived_actual</th>\n",
              "      <th>passenger_index</th>\n",
              "      <th>Survived_prob</th>\n",
              "      <th>Survived_predicted</th>\n",
              "      <th>0.0</th>\n",
              "      <th>0.1</th>\n",
              "      <th>0.2</th>\n",
              "      <th>0.3</th>\n",
              "      <th>0.4</th>\n",
              "      <th>0.5</th>\n",
              "      <th>0.6</th>\n",
              "      <th>0.7</th>\n",
              "      <th>0.8</th>\n",
              "      <th>0.9</th>\n",
              "    </tr>\n",
              "  </thead>\n",
              "  <tbody>\n",
              "    <tr>\n",
              "      <th>0</th>\n",
              "      <td>0</td>\n",
              "      <td>0</td>\n",
              "      <td>0.087779</td>\n",
              "      <td>0</td>\n",
              "      <td>1</td>\n",
              "      <td>0</td>\n",
              "      <td>0</td>\n",
              "      <td>0</td>\n",
              "      <td>0</td>\n",
              "      <td>0</td>\n",
              "      <td>0</td>\n",
              "      <td>0</td>\n",
              "      <td>0</td>\n",
              "      <td>0</td>\n",
              "    </tr>\n",
              "    <tr>\n",
              "      <th>1</th>\n",
              "      <td>1</td>\n",
              "      <td>1</td>\n",
              "      <td>0.930110</td>\n",
              "      <td>1</td>\n",
              "      <td>1</td>\n",
              "      <td>1</td>\n",
              "      <td>1</td>\n",
              "      <td>1</td>\n",
              "      <td>1</td>\n",
              "      <td>1</td>\n",
              "      <td>1</td>\n",
              "      <td>1</td>\n",
              "      <td>1</td>\n",
              "      <td>1</td>\n",
              "    </tr>\n",
              "    <tr>\n",
              "      <th>2</th>\n",
              "      <td>1</td>\n",
              "      <td>2</td>\n",
              "      <td>0.633135</td>\n",
              "      <td>1</td>\n",
              "      <td>1</td>\n",
              "      <td>1</td>\n",
              "      <td>1</td>\n",
              "      <td>1</td>\n",
              "      <td>1</td>\n",
              "      <td>1</td>\n",
              "      <td>1</td>\n",
              "      <td>0</td>\n",
              "      <td>0</td>\n",
              "      <td>0</td>\n",
              "    </tr>\n",
              "    <tr>\n",
              "      <th>3</th>\n",
              "      <td>1</td>\n",
              "      <td>3</td>\n",
              "      <td>0.930110</td>\n",
              "      <td>1</td>\n",
              "      <td>1</td>\n",
              "      <td>1</td>\n",
              "      <td>1</td>\n",
              "      <td>1</td>\n",
              "      <td>1</td>\n",
              "      <td>1</td>\n",
              "      <td>1</td>\n",
              "      <td>1</td>\n",
              "      <td>1</td>\n",
              "      <td>1</td>\n",
              "    </tr>\n",
              "    <tr>\n",
              "      <th>4</th>\n",
              "      <td>0</td>\n",
              "      <td>4</td>\n",
              "      <td>0.087779</td>\n",
              "      <td>0</td>\n",
              "      <td>1</td>\n",
              "      <td>0</td>\n",
              "      <td>0</td>\n",
              "      <td>0</td>\n",
              "      <td>0</td>\n",
              "      <td>0</td>\n",
              "      <td>0</td>\n",
              "      <td>0</td>\n",
              "      <td>0</td>\n",
              "      <td>0</td>\n",
              "    </tr>\n",
              "    <tr>\n",
              "      <th>5</th>\n",
              "      <td>0</td>\n",
              "      <td>5</td>\n",
              "      <td>0.087779</td>\n",
              "      <td>0</td>\n",
              "      <td>1</td>\n",
              "      <td>0</td>\n",
              "      <td>0</td>\n",
              "      <td>0</td>\n",
              "      <td>0</td>\n",
              "      <td>0</td>\n",
              "      <td>0</td>\n",
              "      <td>0</td>\n",
              "      <td>0</td>\n",
              "      <td>0</td>\n",
              "    </tr>\n",
              "    <tr>\n",
              "      <th>6</th>\n",
              "      <td>0</td>\n",
              "      <td>6</td>\n",
              "      <td>0.425957</td>\n",
              "      <td>0</td>\n",
              "      <td>1</td>\n",
              "      <td>1</td>\n",
              "      <td>1</td>\n",
              "      <td>1</td>\n",
              "      <td>1</td>\n",
              "      <td>0</td>\n",
              "      <td>0</td>\n",
              "      <td>0</td>\n",
              "      <td>0</td>\n",
              "      <td>0</td>\n",
              "    </tr>\n",
              "    <tr>\n",
              "      <th>7</th>\n",
              "      <td>1</td>\n",
              "      <td>8</td>\n",
              "      <td>0.633135</td>\n",
              "      <td>1</td>\n",
              "      <td>1</td>\n",
              "      <td>1</td>\n",
              "      <td>1</td>\n",
              "      <td>1</td>\n",
              "      <td>1</td>\n",
              "      <td>1</td>\n",
              "      <td>1</td>\n",
              "      <td>0</td>\n",
              "      <td>0</td>\n",
              "      <td>0</td>\n",
              "    </tr>\n",
              "    <tr>\n",
              "      <th>8</th>\n",
              "      <td>0</td>\n",
              "      <td>12</td>\n",
              "      <td>0.087779</td>\n",
              "      <td>0</td>\n",
              "      <td>1</td>\n",
              "      <td>0</td>\n",
              "      <td>0</td>\n",
              "      <td>0</td>\n",
              "      <td>0</td>\n",
              "      <td>0</td>\n",
              "      <td>0</td>\n",
              "      <td>0</td>\n",
              "      <td>0</td>\n",
              "      <td>0</td>\n",
              "    </tr>\n",
              "    <tr>\n",
              "      <th>9</th>\n",
              "      <td>1</td>\n",
              "      <td>17</td>\n",
              "      <td>0.210866</td>\n",
              "      <td>0</td>\n",
              "      <td>1</td>\n",
              "      <td>1</td>\n",
              "      <td>1</td>\n",
              "      <td>0</td>\n",
              "      <td>0</td>\n",
              "      <td>0</td>\n",
              "      <td>0</td>\n",
              "      <td>0</td>\n",
              "      <td>0</td>\n",
              "      <td>0</td>\n",
              "    </tr>\n",
              "  </tbody>\n",
              "</table>\n",
              "</div>"
            ],
            "text/plain": [
              "   Survived_actual  passenger_index  Survived_prob  Survived_predicted  0.0  \\\n",
              "0                0                0       0.087779                   0    1   \n",
              "1                1                1       0.930110                   1    1   \n",
              "2                1                2       0.633135                   1    1   \n",
              "3                1                3       0.930110                   1    1   \n",
              "4                0                4       0.087779                   0    1   \n",
              "5                0                5       0.087779                   0    1   \n",
              "6                0                6       0.425957                   0    1   \n",
              "7                1                8       0.633135                   1    1   \n",
              "8                0               12       0.087779                   0    1   \n",
              "9                1               17       0.210866                   0    1   \n",
              "\n",
              "   0.1  0.2  0.3  0.4  0.5  0.6  0.7  0.8  0.9  \n",
              "0    0    0    0    0    0    0    0    0    0  \n",
              "1    1    1    1    1    1    1    1    1    1  \n",
              "2    1    1    1    1    1    1    0    0    0  \n",
              "3    1    1    1    1    1    1    1    1    1  \n",
              "4    0    0    0    0    0    0    0    0    0  \n",
              "5    0    0    0    0    0    0    0    0    0  \n",
              "6    1    1    1    1    0    0    0    0    0  \n",
              "7    1    1    1    1    1    1    0    0    0  \n",
              "8    0    0    0    0    0    0    0    0    0  \n",
              "9    1    1    0    0    0    0    0    0    0  "
            ]
          },
          "metadata": {
            "tags": []
          },
          "execution_count": 334
        }
      ]
    },
    {
      "cell_type": "code",
      "metadata": {
        "id": "ncSIdddy_1Xi",
        "colab_type": "code",
        "outputId": "77553e92-52cc-4440-e388-13520433eb0e",
        "colab": {}
      },
      "source": [
        "cutoff_df = pd.DataFrame( columns = ['probability','accuracy','sensitivity','specificity'])\n",
        "from sklearn.metrics import confusion_matrix\n",
        "\n",
        "#TP=conf_matrix[0,0] #actual survived -- predicted survived\n",
        "#TN=conf_matrix[1,1] #actual dead     -- predicted dead\n",
        "#FP=conf_matrix[0,1] #actual dead     -- predicted survived\n",
        "#FN=conf_matrix[1,0] #actual survived -- predicted dead\n",
        "\n",
        "num = [0.0,0.1,0.2,0.3,0.4,0.5,0.6,0.7,0.8,0.9]\n",
        "for i in num:\n",
        "    cm1 = metrics.confusion_matrix(survival_df.Survived_actual, survival_df[i] )\n",
        "    total1=sum(sum(cm1))\n",
        "    accuracy = (cm1[0,0]+cm1[1,1])/total1\n",
        "    \n",
        "    speci = cm1[0,0]/(cm1[0,0]+cm1[0,1])\n",
        "    sensi = cm1[1,1]/(cm1[1,0]+cm1[1,1])\n",
        "    cutoff_df.loc[i] =[ i ,accuracy,sensi,speci]\n",
        "cutoff_df"
      ],
      "execution_count": 0,
      "outputs": [
        {
          "output_type": "execute_result",
          "data": {
            "text/html": [
              "<div>\n",
              "<style scoped>\n",
              "    .dataframe tbody tr th:only-of-type {\n",
              "        vertical-align: middle;\n",
              "    }\n",
              "\n",
              "    .dataframe tbody tr th {\n",
              "        vertical-align: top;\n",
              "    }\n",
              "\n",
              "    .dataframe thead th {\n",
              "        text-align: right;\n",
              "    }\n",
              "</style>\n",
              "<table border=\"1\" class=\"dataframe\">\n",
              "  <thead>\n",
              "    <tr style=\"text-align: right;\">\n",
              "      <th></th>\n",
              "      <th>probability</th>\n",
              "      <th>accuracy</th>\n",
              "      <th>sensitivity</th>\n",
              "      <th>specificity</th>\n",
              "    </tr>\n",
              "  </thead>\n",
              "  <tbody>\n",
              "    <tr>\n",
              "      <th>0.0</th>\n",
              "      <td>0.0</td>\n",
              "      <td>0.364188</td>\n",
              "      <td>1.000000</td>\n",
              "      <td>0.000000</td>\n",
              "    </tr>\n",
              "    <tr>\n",
              "      <th>0.1</th>\n",
              "      <td>0.1</td>\n",
              "      <td>0.679818</td>\n",
              "      <td>0.850000</td>\n",
              "      <td>0.582339</td>\n",
              "    </tr>\n",
              "    <tr>\n",
              "      <th>0.2</th>\n",
              "      <td>0.2</td>\n",
              "      <td>0.679818</td>\n",
              "      <td>0.850000</td>\n",
              "      <td>0.582339</td>\n",
              "    </tr>\n",
              "    <tr>\n",
              "      <th>0.3</th>\n",
              "      <td>0.3</td>\n",
              "      <td>0.790592</td>\n",
              "      <td>0.820833</td>\n",
              "      <td>0.773270</td>\n",
              "    </tr>\n",
              "    <tr>\n",
              "      <th>0.4</th>\n",
              "      <td>0.4</td>\n",
              "      <td>0.790592</td>\n",
              "      <td>0.820833</td>\n",
              "      <td>0.773270</td>\n",
              "    </tr>\n",
              "    <tr>\n",
              "      <th>0.5</th>\n",
              "      <td>0.5</td>\n",
              "      <td>0.808801</td>\n",
              "      <td>0.679167</td>\n",
              "      <td>0.883055</td>\n",
              "    </tr>\n",
              "    <tr>\n",
              "      <th>0.6</th>\n",
              "      <td>0.6</td>\n",
              "      <td>0.808801</td>\n",
              "      <td>0.679167</td>\n",
              "      <td>0.883055</td>\n",
              "    </tr>\n",
              "    <tr>\n",
              "      <th>0.7</th>\n",
              "      <td>0.7</td>\n",
              "      <td>0.796662</td>\n",
              "      <td>0.466667</td>\n",
              "      <td>0.985680</td>\n",
              "    </tr>\n",
              "    <tr>\n",
              "      <th>0.8</th>\n",
              "      <td>0.8</td>\n",
              "      <td>0.796662</td>\n",
              "      <td>0.466667</td>\n",
              "      <td>0.985680</td>\n",
              "    </tr>\n",
              "    <tr>\n",
              "      <th>0.9</th>\n",
              "      <td>0.9</td>\n",
              "      <td>0.719272</td>\n",
              "      <td>0.233333</td>\n",
              "      <td>0.997613</td>\n",
              "    </tr>\n",
              "  </tbody>\n",
              "</table>\n",
              "</div>"
            ],
            "text/plain": [
              "     probability  accuracy  sensitivity  specificity\n",
              "0.0          0.0  0.364188     1.000000     0.000000\n",
              "0.1          0.1  0.679818     0.850000     0.582339\n",
              "0.2          0.2  0.679818     0.850000     0.582339\n",
              "0.3          0.3  0.790592     0.820833     0.773270\n",
              "0.4          0.4  0.790592     0.820833     0.773270\n",
              "0.5          0.5  0.808801     0.679167     0.883055\n",
              "0.6          0.6  0.808801     0.679167     0.883055\n",
              "0.7          0.7  0.796662     0.466667     0.985680\n",
              "0.8          0.8  0.796662     0.466667     0.985680\n",
              "0.9          0.9  0.719272     0.233333     0.997613"
            ]
          },
          "metadata": {
            "tags": []
          },
          "execution_count": 335
        }
      ]
    },
    {
      "cell_type": "code",
      "metadata": {
        "id": "EzqDUirb_1Xl",
        "colab_type": "code",
        "outputId": "f1f5b1e3-5992-4049-9419-942be88d674a",
        "colab": {}
      },
      "source": [
        "# Let's plot accuracy sensitivity and specificity for various probabilities.\n",
        "cutoff_df.plot.line(x='probability', y=['accuracy','sensitivity','specificity'])\n",
        "plt.show()"
      ],
      "execution_count": 0,
      "outputs": [
        {
          "output_type": "display_data",
          "data": {
            "image/png": "[encoded data removed]",
            "text/plain": [
              "<Figure size 432x288 with 1 Axes>"
            ]
          },
          "metadata": {
            "tags": [],
            "needs_background": "light"
          }
        }
      ]
    },
    {
      "cell_type": "markdown",
      "metadata": {
        "id": "CYSv0a-4_1Xn",
        "colab_type": "text"
      },
      "source": [
        "We see that `0.12` seems to be a good cut-off for predicting survived vs dead."
      ]
    },
    {
      "cell_type": "code",
      "metadata": {
        "id": "UJ8iSIsC_1Xo",
        "colab_type": "code",
        "colab": {}
      },
      "source": [
        "survival_df['Survived_predicted']=survival_df['Survived_prob'].map(lambda x:1 if x>0.45 else 0) #setting threshold at 0.2"
      ],
      "execution_count": 0,
      "outputs": []
    },
    {
      "cell_type": "code",
      "metadata": {
        "id": "UQneLDww_1Xq",
        "colab_type": "code",
        "outputId": "25d2c015-9088-434f-a8f0-38025ec3b0c3",
        "colab": {}
      },
      "source": [
        "conf_matrix_2=metrics.confusion_matrix(survival_df.Survived_actual,survival_df.Survived_predicted)\n",
        "conf_matrix_2"
      ],
      "execution_count": 0,
      "outputs": [
        {
          "output_type": "execute_result",
          "data": {
            "text/plain": [
              "array([[370,  49],\n",
              "       [ 77, 163]])"
            ]
          },
          "metadata": {
            "tags": []
          },
          "execution_count": 338
        }
      ]
    },
    {
      "cell_type": "code",
      "metadata": {
        "id": "WD6M1Yy5_1Xs",
        "colab_type": "code",
        "colab": {}
      },
      "source": [
        "TP=conf_matrix_2[0,0] #actual survived -- predicted survived\n",
        "TN=conf_matrix_2[1,1] #actual dead     -- predicted dead\n",
        "FP=conf_matrix_2[0,1] #actual dead     -- predicted survived\n",
        "FN=conf_matrix_2[1,0] #actual survived -- predicted dead"
      ],
      "execution_count": 0,
      "outputs": []
    },
    {
      "cell_type": "code",
      "metadata": {
        "id": "2y3_rqfL_1Xv",
        "colab_type": "code",
        "outputId": "2525cbc4-b748-4786-81dc-b6b9750ea4b7",
        "colab": {}
      },
      "source": [
        "#Sensitivity\n",
        "TP / float(TP+FN)"
      ],
      "execution_count": 0,
      "outputs": [
        {
          "output_type": "execute_result",
          "data": {
            "text/plain": [
              "0.8277404921700223"
            ]
          },
          "metadata": {
            "tags": []
          },
          "execution_count": 340
        }
      ]
    },
    {
      "cell_type": "code",
      "metadata": {
        "id": "tL30GmTE_1Xw",
        "colab_type": "code",
        "outputId": "3031a27a-6137-4fb2-d1cc-7f402170a36a",
        "colab": {}
      },
      "source": [
        "#Specificity\n",
        "TN/float(FP+TN)"
      ],
      "execution_count": 0,
      "outputs": [
        {
          "output_type": "execute_result",
          "data": {
            "text/plain": [
              "0.7688679245283019"
            ]
          },
          "metadata": {
            "tags": []
          },
          "execution_count": 341
        }
      ]
    },
    {
      "cell_type": "code",
      "metadata": {
        "id": "trBKjPY4_1Xx",
        "colab_type": "code",
        "outputId": "7e075474-63ee-4a81-f8f0-de33a80a68eb",
        "colab": {}
      },
      "source": [
        "#False Positive Rate\n",
        "FP / float(FP+TN)"
      ],
      "execution_count": 0,
      "outputs": [
        {
          "output_type": "execute_result",
          "data": {
            "text/plain": [
              "0.23113207547169812"
            ]
          },
          "metadata": {
            "tags": []
          },
          "execution_count": 342
        }
      ]
    },
    {
      "cell_type": "code",
      "metadata": {
        "id": "VSBImDZj_1Xz",
        "colab_type": "code",
        "outputId": "4f640279-11e4-4980-f905-7596b54dd579",
        "colab": {}
      },
      "source": [
        "#Positive Predictive Value\n",
        "TP / float(TP+FP)"
      ],
      "execution_count": 0,
      "outputs": [
        {
          "output_type": "execute_result",
          "data": {
            "text/plain": [
              "0.883054892601432"
            ]
          },
          "metadata": {
            "tags": []
          },
          "execution_count": 343
        }
      ]
    },
    {
      "cell_type": "code",
      "metadata": {
        "id": "X1JO9j9e_1X0",
        "colab_type": "code",
        "outputId": "9eefc7be-32c2-4be7-fd4e-017d3c94a02d",
        "colab": {}
      },
      "source": [
        "#Negative Predictive Value\n",
        "TN / float(TN+FN)"
      ],
      "execution_count": 0,
      "outputs": [
        {
          "output_type": "execute_result",
          "data": {
            "text/plain": [
              "0.6791666666666667"
            ]
          },
          "metadata": {
            "tags": []
          },
          "execution_count": 344
        }
      ]
    },
    {
      "cell_type": "code",
      "metadata": {
        "id": "FOreM-k8_1X1",
        "colab_type": "code",
        "outputId": "fd61f047-d723-46db-ebb1-2b878e079cef",
        "colab": {}
      },
      "source": [
        "draw_roc(survival_df.Survived_actual, survival_df.Survived_predicted)"
      ],
      "execution_count": 0,
      "outputs": [
        {
          "output_type": "display_data",
          "data": {
            "image/png": "[encoded data removed]",
            "text/plain": [
              "<Figure size 360x360 with 1 Axes>"
            ]
          },
          "metadata": {
            "tags": [],
            "needs_background": "light"
          }
        }
      ]
    },
    {
      "cell_type": "markdown",
      "metadata": {
        "id": "DjPxTwGz_1X3",
        "colab_type": "text"
      },
      "source": [
        "`AUC` Under ROC Curve for threshold set at 0.2 is `0.78`. "
      ]
    },
    {
      "cell_type": "markdown",
      "metadata": {
        "id": "aCbeRHO9_1X3",
        "colab_type": "text"
      },
      "source": [
        "## Test Data"
      ]
    },
    {
      "cell_type": "code",
      "metadata": {
        "id": "NtY9f_nw_1X3",
        "colab_type": "code",
        "outputId": "ed4c36f0-cecf-44c3-9c6e-b87c8a22c938",
        "colab": {}
      },
      "source": [
        "df_test.head()"
      ],
      "execution_count": 0,
      "outputs": [
        {
          "output_type": "execute_result",
          "data": {
            "text/html": [
              "<div>\n",
              "<style scoped>\n",
              "    .dataframe tbody tr th:only-of-type {\n",
              "        vertical-align: middle;\n",
              "    }\n",
              "\n",
              "    .dataframe tbody tr th {\n",
              "        vertical-align: top;\n",
              "    }\n",
              "\n",
              "    .dataframe thead th {\n",
              "        text-align: right;\n",
              "    }\n",
              "</style>\n",
              "<table border=\"1\" class=\"dataframe\">\n",
              "  <thead>\n",
              "    <tr style=\"text-align: right;\">\n",
              "      <th></th>\n",
              "      <th>PassengerId</th>\n",
              "      <th>Pclass</th>\n",
              "      <th>Name</th>\n",
              "      <th>Sex</th>\n",
              "      <th>Age</th>\n",
              "      <th>SibSp</th>\n",
              "      <th>Parch</th>\n",
              "      <th>Ticket</th>\n",
              "      <th>Fare</th>\n",
              "      <th>Cabin</th>\n",
              "      <th>Embarked</th>\n",
              "    </tr>\n",
              "  </thead>\n",
              "  <tbody>\n",
              "    <tr>\n",
              "      <th>0</th>\n",
              "      <td>892</td>\n",
              "      <td>3</td>\n",
              "      <td>Kelly, Mr. James</td>\n",
              "      <td>male</td>\n",
              "      <td>34.5</td>\n",
              "      <td>0</td>\n",
              "      <td>0</td>\n",
              "      <td>330911</td>\n",
              "      <td>7.8292</td>\n",
              "      <td>NaN</td>\n",
              "      <td>Q</td>\n",
              "    </tr>\n",
              "    <tr>\n",
              "      <th>1</th>\n",
              "      <td>893</td>\n",
              "      <td>3</td>\n",
              "      <td>Wilkes, Mrs. James (Ellen Needs)</td>\n",
              "      <td>female</td>\n",
              "      <td>47.0</td>\n",
              "      <td>1</td>\n",
              "      <td>0</td>\n",
              "      <td>363272</td>\n",
              "      <td>7.0000</td>\n",
              "      <td>NaN</td>\n",
              "      <td>S</td>\n",
              "    </tr>\n",
              "    <tr>\n",
              "      <th>2</th>\n",
              "      <td>894</td>\n",
              "      <td>2</td>\n",
              "      <td>Myles, Mr. Thomas Francis</td>\n",
              "      <td>male</td>\n",
              "      <td>62.0</td>\n",
              "      <td>0</td>\n",
              "      <td>0</td>\n",
              "      <td>240276</td>\n",
              "      <td>9.6875</td>\n",
              "      <td>NaN</td>\n",
              "      <td>Q</td>\n",
              "    </tr>\n",
              "    <tr>\n",
              "      <th>3</th>\n",
              "      <td>895</td>\n",
              "      <td>3</td>\n",
              "      <td>Wirz, Mr. Albert</td>\n",
              "      <td>male</td>\n",
              "      <td>27.0</td>\n",
              "      <td>0</td>\n",
              "      <td>0</td>\n",
              "      <td>315154</td>\n",
              "      <td>8.6625</td>\n",
              "      <td>NaN</td>\n",
              "      <td>S</td>\n",
              "    </tr>\n",
              "    <tr>\n",
              "      <th>4</th>\n",
              "      <td>896</td>\n",
              "      <td>3</td>\n",
              "      <td>Hirvonen, Mrs. Alexander (Helga E Lindqvist)</td>\n",
              "      <td>female</td>\n",
              "      <td>22.0</td>\n",
              "      <td>1</td>\n",
              "      <td>1</td>\n",
              "      <td>3101298</td>\n",
              "      <td>12.2875</td>\n",
              "      <td>NaN</td>\n",
              "      <td>S</td>\n",
              "    </tr>\n",
              "  </tbody>\n",
              "</table>\n",
              "</div>"
            ],
            "text/plain": [
              "   PassengerId  Pclass                                          Name     Sex  \\\n",
              "0          892       3                              Kelly, Mr. James    male   \n",
              "1          893       3              Wilkes, Mrs. James (Ellen Needs)  female   \n",
              "2          894       2                     Myles, Mr. Thomas Francis    male   \n",
              "3          895       3                              Wirz, Mr. Albert    male   \n",
              "4          896       3  Hirvonen, Mrs. Alexander (Helga E Lindqvist)  female   \n",
              "\n",
              "    Age  SibSp  Parch   Ticket     Fare Cabin Embarked  \n",
              "0  34.5      0      0   330911   7.8292   NaN        Q  \n",
              "1  47.0      1      0   363272   7.0000   NaN        S  \n",
              "2  62.0      0      0   240276   9.6875   NaN        Q  \n",
              "3  27.0      0      0   315154   8.6625   NaN        S  \n",
              "4  22.0      1      1  3101298  12.2875   NaN        S  "
            ]
          },
          "metadata": {
            "tags": []
          },
          "execution_count": 346
        }
      ]
    },
    {
      "cell_type": "code",
      "metadata": {
        "id": "2JXp5l_V_1X6",
        "colab_type": "code",
        "outputId": "2260fab6-8ef8-4014-f080-72c933a8e7a7",
        "colab": {}
      },
      "source": [
        "df_test.shape"
      ],
      "execution_count": 0,
      "outputs": [
        {
          "output_type": "execute_result",
          "data": {
            "text/plain": [
              "(418, 11)"
            ]
          },
          "metadata": {
            "tags": []
          },
          "execution_count": 347
        }
      ]
    },
    {
      "cell_type": "markdown",
      "metadata": {
        "id": "l3lTsDLU_1X7",
        "colab_type": "text"
      },
      "source": [
        "#### Adding Dummy Variable in test data"
      ]
    },
    {
      "cell_type": "code",
      "metadata": {
        "id": "NyFn7Psv_1X8",
        "colab_type": "code",
        "colab": {}
      },
      "source": [
        "df_test = pd.get_dummies(df_test,columns=['Embarked','Sex'],drop_first=True)"
      ],
      "execution_count": 0,
      "outputs": []
    },
    {
      "cell_type": "code",
      "metadata": {
        "id": "geqzKL5F_1X9",
        "colab_type": "code",
        "outputId": "30dc8801-56f3-437e-f69f-0207254ec9c9",
        "colab": {}
      },
      "source": [
        "df_test.shape"
      ],
      "execution_count": 0,
      "outputs": [
        {
          "output_type": "execute_result",
          "data": {
            "text/plain": [
              "(418, 12)"
            ]
          },
          "metadata": {
            "tags": []
          },
          "execution_count": 349
        }
      ]
    },
    {
      "cell_type": "code",
      "metadata": {
        "id": "VBuEPchu_1X-",
        "colab_type": "code",
        "outputId": "7402a478-03e6-41b0-8ef0-b6b41323d0c5",
        "colab": {}
      },
      "source": [
        "df_test.head() "
      ],
      "execution_count": 0,
      "outputs": [
        {
          "output_type": "execute_result",
          "data": {
            "text/html": [
              "<div>\n",
              "<style scoped>\n",
              "    .dataframe tbody tr th:only-of-type {\n",
              "        vertical-align: middle;\n",
              "    }\n",
              "\n",
              "    .dataframe tbody tr th {\n",
              "        vertical-align: top;\n",
              "    }\n",
              "\n",
              "    .dataframe thead th {\n",
              "        text-align: right;\n",
              "    }\n",
              "</style>\n",
              "<table border=\"1\" class=\"dataframe\">\n",
              "  <thead>\n",
              "    <tr style=\"text-align: right;\">\n",
              "      <th></th>\n",
              "      <th>PassengerId</th>\n",
              "      <th>Pclass</th>\n",
              "      <th>Name</th>\n",
              "      <th>Age</th>\n",
              "      <th>SibSp</th>\n",
              "      <th>Parch</th>\n",
              "      <th>Ticket</th>\n",
              "      <th>Fare</th>\n",
              "      <th>Cabin</th>\n",
              "      <th>Embarked_Q</th>\n",
              "      <th>Embarked_S</th>\n",
              "      <th>Sex_male</th>\n",
              "    </tr>\n",
              "  </thead>\n",
              "  <tbody>\n",
              "    <tr>\n",
              "      <th>0</th>\n",
              "      <td>892</td>\n",
              "      <td>3</td>\n",
              "      <td>Kelly, Mr. James</td>\n",
              "      <td>34.5</td>\n",
              "      <td>0</td>\n",
              "      <td>0</td>\n",
              "      <td>330911</td>\n",
              "      <td>7.8292</td>\n",
              "      <td>NaN</td>\n",
              "      <td>1</td>\n",
              "      <td>0</td>\n",
              "      <td>1</td>\n",
              "    </tr>\n",
              "    <tr>\n",
              "      <th>1</th>\n",
              "      <td>893</td>\n",
              "      <td>3</td>\n",
              "      <td>Wilkes, Mrs. James (Ellen Needs)</td>\n",
              "      <td>47.0</td>\n",
              "      <td>1</td>\n",
              "      <td>0</td>\n",
              "      <td>363272</td>\n",
              "      <td>7.0000</td>\n",
              "      <td>NaN</td>\n",
              "      <td>0</td>\n",
              "      <td>1</td>\n",
              "      <td>0</td>\n",
              "    </tr>\n",
              "    <tr>\n",
              "      <th>2</th>\n",
              "      <td>894</td>\n",
              "      <td>2</td>\n",
              "      <td>Myles, Mr. Thomas Francis</td>\n",
              "      <td>62.0</td>\n",
              "      <td>0</td>\n",
              "      <td>0</td>\n",
              "      <td>240276</td>\n",
              "      <td>9.6875</td>\n",
              "      <td>NaN</td>\n",
              "      <td>1</td>\n",
              "      <td>0</td>\n",
              "      <td>1</td>\n",
              "    </tr>\n",
              "    <tr>\n",
              "      <th>3</th>\n",
              "      <td>895</td>\n",
              "      <td>3</td>\n",
              "      <td>Wirz, Mr. Albert</td>\n",
              "      <td>27.0</td>\n",
              "      <td>0</td>\n",
              "      <td>0</td>\n",
              "      <td>315154</td>\n",
              "      <td>8.6625</td>\n",
              "      <td>NaN</td>\n",
              "      <td>0</td>\n",
              "      <td>1</td>\n",
              "      <td>1</td>\n",
              "    </tr>\n",
              "    <tr>\n",
              "      <th>4</th>\n",
              "      <td>896</td>\n",
              "      <td>3</td>\n",
              "      <td>Hirvonen, Mrs. Alexander (Helga E Lindqvist)</td>\n",
              "      <td>22.0</td>\n",
              "      <td>1</td>\n",
              "      <td>1</td>\n",
              "      <td>3101298</td>\n",
              "      <td>12.2875</td>\n",
              "      <td>NaN</td>\n",
              "      <td>0</td>\n",
              "      <td>1</td>\n",
              "      <td>0</td>\n",
              "    </tr>\n",
              "  </tbody>\n",
              "</table>\n",
              "</div>"
            ],
            "text/plain": [
              "   PassengerId  Pclass                                          Name   Age  \\\n",
              "0          892       3                              Kelly, Mr. James  34.5   \n",
              "1          893       3              Wilkes, Mrs. James (Ellen Needs)  47.0   \n",
              "2          894       2                     Myles, Mr. Thomas Francis  62.0   \n",
              "3          895       3                              Wirz, Mr. Albert  27.0   \n",
              "4          896       3  Hirvonen, Mrs. Alexander (Helga E Lindqvist)  22.0   \n",
              "\n",
              "   SibSp  Parch   Ticket     Fare Cabin  Embarked_Q  Embarked_S  Sex_male  \n",
              "0      0      0   330911   7.8292   NaN           1           0         1  \n",
              "1      1      0   363272   7.0000   NaN           0           1         0  \n",
              "2      0      0   240276   9.6875   NaN           1           0         1  \n",
              "3      0      0   315154   8.6625   NaN           0           1         1  \n",
              "4      1      1  3101298  12.2875   NaN           0           1         0  "
            ]
          },
          "metadata": {
            "tags": []
          },
          "execution_count": 350
        }
      ]
    },
    {
      "cell_type": "code",
      "metadata": {
        "id": "MdZxX3g6_1X_",
        "colab_type": "code",
        "outputId": "307463cc-677f-4e56-c87b-ae1893469755",
        "colab": {}
      },
      "source": [
        "df_test[['Pclass','Age','Fare','SibSp','Embarked_Q','Embarked_S','Sex_male']] = scaler.transform(df_test[['Pclass','Age','Fare','SibSp','Embarked_Q','Embarked_S','Sex_male']])\n",
        "df_test.head()"
      ],
      "execution_count": 0,
      "outputs": [
        {
          "output_type": "execute_result",
          "data": {
            "text/html": [
              "<div>\n",
              "<style scoped>\n",
              "    .dataframe tbody tr th:only-of-type {\n",
              "        vertical-align: middle;\n",
              "    }\n",
              "\n",
              "    .dataframe tbody tr th {\n",
              "        vertical-align: top;\n",
              "    }\n",
              "\n",
              "    .dataframe thead th {\n",
              "        text-align: right;\n",
              "    }\n",
              "</style>\n",
              "<table border=\"1\" class=\"dataframe\">\n",
              "  <thead>\n",
              "    <tr style=\"text-align: right;\">\n",
              "      <th></th>\n",
              "      <th>PassengerId</th>\n",
              "      <th>Pclass</th>\n",
              "      <th>Name</th>\n",
              "      <th>Age</th>\n",
              "      <th>SibSp</th>\n",
              "      <th>Parch</th>\n",
              "      <th>Ticket</th>\n",
              "      <th>Fare</th>\n",
              "      <th>Cabin</th>\n",
              "      <th>Embarked_Q</th>\n",
              "      <th>Embarked_S</th>\n",
              "      <th>Sex_male</th>\n",
              "    </tr>\n",
              "  </thead>\n",
              "  <tbody>\n",
              "    <tr>\n",
              "      <th>0</th>\n",
              "      <td>892</td>\n",
              "      <td>0.796680</td>\n",
              "      <td>Kelly, Mr. James</td>\n",
              "      <td>0.487865</td>\n",
              "      <td>-0.561077</td>\n",
              "      <td>0</td>\n",
              "      <td>330911</td>\n",
              "      <td>-0.657414</td>\n",
              "      <td>NaN</td>\n",
              "      <td>3.049078</td>\n",
              "      <td>-1.643851</td>\n",
              "      <td>0.688675</td>\n",
              "    </tr>\n",
              "    <tr>\n",
              "      <th>1</th>\n",
              "      <td>893</td>\n",
              "      <td>0.796680</td>\n",
              "      <td>Wilkes, Mrs. James (Ellen Needs)</td>\n",
              "      <td>1.934183</td>\n",
              "      <td>1.405676</td>\n",
              "      <td>0</td>\n",
              "      <td>363272</td>\n",
              "      <td>-0.694815</td>\n",
              "      <td>NaN</td>\n",
              "      <td>-0.327968</td>\n",
              "      <td>0.608328</td>\n",
              "      <td>-1.452064</td>\n",
              "    </tr>\n",
              "    <tr>\n",
              "      <th>2</th>\n",
              "      <td>894</td>\n",
              "      <td>-0.447425</td>\n",
              "      <td>Myles, Mr. Thomas Francis</td>\n",
              "      <td>3.669765</td>\n",
              "      <td>-0.561077</td>\n",
              "      <td>0</td>\n",
              "      <td>240276</td>\n",
              "      <td>-0.573596</td>\n",
              "      <td>NaN</td>\n",
              "      <td>3.049078</td>\n",
              "      <td>-1.643851</td>\n",
              "      <td>0.688675</td>\n",
              "    </tr>\n",
              "    <tr>\n",
              "      <th>3</th>\n",
              "      <td>895</td>\n",
              "      <td>0.796680</td>\n",
              "      <td>Wirz, Mr. Albert</td>\n",
              "      <td>-0.379926</td>\n",
              "      <td>-0.561077</td>\n",
              "      <td>0</td>\n",
              "      <td>315154</td>\n",
              "      <td>-0.619828</td>\n",
              "      <td>NaN</td>\n",
              "      <td>-0.327968</td>\n",
              "      <td>0.608328</td>\n",
              "      <td>0.688675</td>\n",
              "    </tr>\n",
              "    <tr>\n",
              "      <th>4</th>\n",
              "      <td>896</td>\n",
              "      <td>0.796680</td>\n",
              "      <td>Hirvonen, Mrs. Alexander (Helga E Lindqvist)</td>\n",
              "      <td>-0.958453</td>\n",
              "      <td>1.405676</td>\n",
              "      <td>1</td>\n",
              "      <td>3101298</td>\n",
              "      <td>-0.456324</td>\n",
              "      <td>NaN</td>\n",
              "      <td>-0.327968</td>\n",
              "      <td>0.608328</td>\n",
              "      <td>-1.452064</td>\n",
              "    </tr>\n",
              "  </tbody>\n",
              "</table>\n",
              "</div>"
            ],
            "text/plain": [
              "   PassengerId    Pclass                                          Name  \\\n",
              "0          892  0.796680                              Kelly, Mr. James   \n",
              "1          893  0.796680              Wilkes, Mrs. James (Ellen Needs)   \n",
              "2          894 -0.447425                     Myles, Mr. Thomas Francis   \n",
              "3          895  0.796680                              Wirz, Mr. Albert   \n",
              "4          896  0.796680  Hirvonen, Mrs. Alexander (Helga E Lindqvist)   \n",
              "\n",
              "        Age     SibSp  Parch   Ticket      Fare Cabin  Embarked_Q  Embarked_S  \\\n",
              "0  0.487865 -0.561077      0   330911 -0.657414   NaN    3.049078   -1.643851   \n",
              "1  1.934183  1.405676      0   363272 -0.694815   NaN   -0.327968    0.608328   \n",
              "2  3.669765 -0.561077      0   240276 -0.573596   NaN    3.049078   -1.643851   \n",
              "3 -0.379926 -0.561077      0   315154 -0.619828   NaN   -0.327968    0.608328   \n",
              "4 -0.958453  1.405676      1  3101298 -0.456324   NaN   -0.327968    0.608328   \n",
              "\n",
              "   Sex_male  \n",
              "0  0.688675  \n",
              "1 -1.452064  \n",
              "2  0.688675  \n",
              "3  0.688675  \n",
              "4 -1.452064  "
            ]
          },
          "metadata": {
            "tags": []
          },
          "execution_count": 351
        }
      ]
    },
    {
      "cell_type": "code",
      "metadata": {
        "id": "jxjarNn4_1YB",
        "colab_type": "code",
        "colab": {}
      },
      "source": [
        "df_test= df_test.drop('Embarked_S',axis=1) #dropping the highly correlated dummy variable"
      ],
      "execution_count": 0,
      "outputs": []
    },
    {
      "cell_type": "code",
      "metadata": {
        "id": "Z2XW7dTI_1YC",
        "colab_type": "code",
        "colab": {}
      },
      "source": [
        "df_test=df_test.drop(['Name','Ticket'],axis=1)"
      ],
      "execution_count": 0,
      "outputs": []
    },
    {
      "cell_type": "code",
      "metadata": {
        "id": "X6s10VNj_1YD",
        "colab_type": "code",
        "outputId": "73c8aa19-c22c-4211-f0ab-134a4ca5fbf1",
        "colab": {}
      },
      "source": [
        "df_test.shape"
      ],
      "execution_count": 0,
      "outputs": [
        {
          "output_type": "execute_result",
          "data": {
            "text/plain": [
              "(418, 9)"
            ]
          },
          "metadata": {
            "tags": []
          },
          "execution_count": 354
        }
      ]
    },
    {
      "cell_type": "code",
      "metadata": {
        "id": "ny8wBxzn_1YE",
        "colab_type": "code",
        "colab": {}
      },
      "source": [
        "df_test_final=df_test.drop(['Age','Fare','SibSp','PassengerId','Parch','Cabin','Embarked_Q'],axis=1) #final test dataset"
      ],
      "execution_count": 0,
      "outputs": []
    },
    {
      "cell_type": "code",
      "metadata": {
        "id": "BuQlSjt2_1YG",
        "colab_type": "code",
        "outputId": "fc71f66c-e1ea-4851-b98c-bab570ad9ac8",
        "colab": {}
      },
      "source": [
        "y_pred = res.predict(sm.add_constant(df_test_final)) # predictions of survival for \n",
        "y_pred.head()"
      ],
      "execution_count": 0,
      "outputs": [
        {
          "output_type": "execute_result",
          "data": {
            "text/plain": [
              "0    0.087779\n",
              "1    0.633135\n",
              "2    0.210866\n",
              "3    0.087779\n",
              "4    0.633135\n",
              "dtype: float64"
            ]
          },
          "metadata": {
            "tags": []
          },
          "execution_count": 356
        }
      ]
    },
    {
      "cell_type": "code",
      "metadata": {
        "id": "WD7Dv5Jy_1YI",
        "colab_type": "code",
        "outputId": "3c9bd38a-8816-45d0-a7ca-65e690bc7f67",
        "colab": {}
      },
      "source": [
        "y_pred.shape"
      ],
      "execution_count": 0,
      "outputs": [
        {
          "output_type": "execute_result",
          "data": {
            "text/plain": [
              "(418,)"
            ]
          },
          "metadata": {
            "tags": []
          },
          "execution_count": 357
        }
      ]
    },
    {
      "cell_type": "code",
      "metadata": {
        "id": "_1ant9f2_1YL",
        "colab_type": "code",
        "colab": {}
      },
      "source": [
        "y_pred_df=pd.DataFrame(df_test[\"PassengerId\"])\n",
        "y_pred_df['Survived']=y_pred"
      ],
      "execution_count": 0,
      "outputs": []
    },
    {
      "cell_type": "code",
      "metadata": {
        "id": "btItcdFX_1YN",
        "colab_type": "code",
        "colab": {}
      },
      "source": [
        "y_pred_df['Survived']=y_pred_df['Survived'].map(lambda x:1 if x>0.45 else 0)"
      ],
      "execution_count": 0,
      "outputs": []
    },
    {
      "cell_type": "code",
      "metadata": {
        "id": "gxmJNjP-_1YO",
        "colab_type": "code",
        "outputId": "0213db98-cdef-4b6a-b8d0-7797b3e6f22d",
        "colab": {}
      },
      "source": [
        "y_pred_df.shape"
      ],
      "execution_count": 0,
      "outputs": [
        {
          "output_type": "execute_result",
          "data": {
            "text/plain": [
              "(418, 2)"
            ]
          },
          "metadata": {
            "tags": []
          },
          "execution_count": 360
        }
      ]
    },
    {
      "cell_type": "code",
      "metadata": {
        "id": "49hrEK33_1YQ",
        "colab_type": "code",
        "colab": {}
      },
      "source": [
        "y_pred_df.to_csv('Submission_1.csv')"
      ],
      "execution_count": 0,
      "outputs": []
    },
    {
      "cell_type": "code",
      "metadata": {
        "id": "p8E-M8w3_1YR",
        "colab_type": "code",
        "colab": {}
      },
      "source": [
        ""
      ],
      "execution_count": 0,
      "outputs": []
    }
  ]
}